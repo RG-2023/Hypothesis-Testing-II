{
 "cells": [
  {
   "cell_type": "markdown",
   "id": "b0cd5c57",
   "metadata": {},
   "source": [
    "# Pearson's 𝜒2 Test"
   ]
  },
  {
   "cell_type": "markdown",
   "id": "d768b901",
   "metadata": {},
   "source": [
    "Pearson's chi-squared test or Pearson's $\\chi^2$ test is a statistical method used to determine whether observed differences between sets of categorical data are likely due to chance. \n",
    "\n",
    "**There are two types of Pearson’s chi-squared tests:**\n",
    "- The Chi-Square Goodness of Fit Test\n",
    "- The Chi-Square Test of Independence"
   ]
  },
  {
   "cell_type": "markdown",
   "id": "8e63298a",
   "metadata": {},
   "source": [
    "## I. Chi-Square Goodness of Fit Test"
   ]
  },
  {
   "cell_type": "markdown",
   "id": "5d17a1a9",
   "metadata": {},
   "source": [
    "The formula used to calculate the chi-Square goodness of fit test is:\n",
    "\n",
    "$$\n",
    "\\chi^2\\ (cal.) = \\sum_{i=1}^{k} \\frac{(O_i - E_i)^2}{E_i}\n",
    "$$\n",
    "\n",
    "Where:\n",
    "\n",
    "$\\chi^2$ = Chi-square test statistic for k -1 degrees of freedom\n",
    "\n",
    "$O_i$ = Observed count/frequency of type $i$\n",
    "\n",
    "$E_i$ = Expected count/frequency of type $i$\n",
    "\n",
    "$k$ =  Number of distinct categories or groups\n",
    "\n",
    "df (Degrees of freedom) = k -1"
   ]
  },
  {
   "cell_type": "markdown",
   "id": "f64b52ea",
   "metadata": {},
   "source": [
    "### *Question 1*"
   ]
  },
  {
   "cell_type": "markdown",
   "id": "63f87cac",
   "metadata": {},
   "source": [
    "**Question 1:** A coin was flipped 100 times, yielding 40 heads and 60 tails. Conduct a hypothesis test at the 95% confidence level to assess whether the coin is biased."
   ]
  },
  {
   "cell_type": "markdown",
   "id": "b574597e",
   "metadata": {},
   "source": [
    "**Importing Libraries**"
   ]
  },
  {
   "cell_type": "code",
   "execution_count": 1,
   "id": "c1911342",
   "metadata": {},
   "outputs": [],
   "source": [
    "import numpy as np\n",
    "import pandas as pd\n",
    "import matplotlib.pyplot as plt\n",
    "import seaborn as sns\n",
    "import scipy.stats as stats"
   ]
  },
  {
   "cell_type": "markdown",
   "id": "abead40e",
   "metadata": {},
   "source": [
    "**Creating Data**"
   ]
  },
  {
   "cell_type": "code",
   "execution_count": 2,
   "id": "3b75ef26",
   "metadata": {},
   "outputs": [],
   "source": [
    "# Creating lists of data from the question 1 above\n",
    "obs = [40, 60]\n",
    "exp = [50, 50]"
   ]
  },
  {
   "cell_type": "markdown",
   "id": "fd3c2761",
   "metadata": {},
   "source": [
    "**Stating Hypothesis**"
   ]
  },
  {
   "cell_type": "markdown",
   "id": "4a41d620",
   "metadata": {},
   "source": [
    "Null hypothesis H0: The coin is unbiased.\n",
    "\n",
    "Alternative hypothesis H1: The coin is biased."
   ]
  },
  {
   "cell_type": "markdown",
   "id": "a6860596",
   "metadata": {},
   "source": [
    "**Selecting the Level of Significance or α Level**"
   ]
  },
  {
   "cell_type": "markdown",
   "id": "5ead514f",
   "metadata": {},
   "source": [
    "Given that the confidence level (1 - α) is 95%, the significance level (α) is 5% (or 0.05). \n",
    "\n",
    "The chi-square goodness-of-fit test is almost always right-tailed because the test statistic, which is calculated as $\\sum \\frac {(O - E)^2}{E}$, is always positive."
   ]
  },
  {
   "cell_type": "markdown",
   "id": "6c4fb156",
   "metadata": {},
   "source": [
    "**Calculating Test Statistic and P-Value**"
   ]
  },
  {
   "cell_type": "code",
   "execution_count": 3,
   "id": "c4220aa3",
   "metadata": {},
   "outputs": [
    {
     "data": {
      "text/plain": [
       "Power_divergenceResult(statistic=4.0, pvalue=0.04550026389635857)"
      ]
     },
     "execution_count": 3,
     "metadata": {},
     "output_type": "execute_result"
    }
   ],
   "source": [
    "stats.chisquare(f_obs=obs, f_exp=exp)"
   ]
  },
  {
   "cell_type": "code",
   "execution_count": 4,
   "id": "567015ae",
   "metadata": {},
   "outputs": [
    {
     "data": {
      "text/plain": [
       "Power_divergenceResult(statistic=4.0, pvalue=0.04550026389635857)"
      ]
     },
     "execution_count": 4,
     "metadata": {},
     "output_type": "execute_result"
    }
   ],
   "source": [
    "# By default the expected values (i.e., f_exp) are assumed to be equally likely\n",
    "stats.chisquare(obs)"
   ]
  },
  {
   "cell_type": "markdown",
   "id": "99949be8",
   "metadata": {},
   "source": [
    "Here, the calculated chi-square value is 4.0 and the right-tailed p-value is 0.045."
   ]
  },
  {
   "cell_type": "markdown",
   "id": "49a7c0e7",
   "metadata": {},
   "source": [
    "**Interpreting Results**"
   ]
  },
  {
   "cell_type": "markdown",
   "id": "d5fd96bf",
   "metadata": {},
   "source": [
    "Since the p-value is less than α = 0.05, we reject the null hypothesis. Therefore, we conclude that the coin is biased."
   ]
  },
  {
   "cell_type": "markdown",
   "id": "58b7ad83",
   "metadata": {},
   "source": [
    "### *Question 2*"
   ]
  },
  {
   "cell_type": "markdown",
   "id": "30719aa6",
   "metadata": {},
   "source": [
    "**Question 2:** A shop owner wants to compare the number of T-shirts sold in each size to the expected proportions. The total number of shirts sold was 25 (Small), 41 (Medium), 91 (Large), and 68 (X-Large). The expected proportions were 0.1, 0.2, 0.4, and 0.3 for Small, Medium, Large, and X-Large, respectively. Conduct a hypothesis test at the 95% confidence level to determine whether the observed (sample) sales differ significantly from the expected (population) sales."
   ]
  },
  {
   "cell_type": "markdown",
   "id": "2edb6bc4",
   "metadata": {},
   "source": [
    "**Creating Data**"
   ]
  },
  {
   "cell_type": "code",
   "execution_count": 5,
   "id": "e93b0635",
   "metadata": {},
   "outputs": [],
   "source": [
    "# Creating the data as a pandas Series based on question 2 above\n",
    "exp_prop = pd.Series([0.1, 0.2, 0.4, 0.3])\n",
    "obs_freq = pd.Series([25, 41, 91, 68])\n",
    "exp_freq = exp_prop * sum(obs_freq)"
   ]
  },
  {
   "cell_type": "code",
   "execution_count": 6,
   "id": "ed72fa8c",
   "metadata": {},
   "outputs": [
    {
     "data": {
      "text/plain": [
       "0    25\n",
       "1    41\n",
       "2    91\n",
       "3    68\n",
       "dtype: int64"
      ]
     },
     "execution_count": 6,
     "metadata": {},
     "output_type": "execute_result"
    }
   ],
   "source": [
    "obs_freq"
   ]
  },
  {
   "cell_type": "code",
   "execution_count": 7,
   "id": "7bdc3341",
   "metadata": {},
   "outputs": [
    {
     "data": {
      "text/plain": [
       "0    22.5\n",
       "1    45.0\n",
       "2    90.0\n",
       "3    67.5\n",
       "dtype: float64"
      ]
     },
     "execution_count": 7,
     "metadata": {},
     "output_type": "execute_result"
    }
   ],
   "source": [
    "exp_freq"
   ]
  },
  {
   "cell_type": "markdown",
   "id": "4803b6fc",
   "metadata": {},
   "source": [
    "**Stating Hypothesis**"
   ]
  },
  {
   "cell_type": "markdown",
   "id": "a617981a",
   "metadata": {},
   "source": [
    "Null hypothesis H0:  The observed sales follow the expected proportions or O $\\approx$ E.\n",
    "\n",
    "Alternative hypothesis H1: The observed sales do not follow the expected proportions or O $\\neq$ E."
   ]
  },
  {
   "cell_type": "markdown",
   "id": "22023b2b",
   "metadata": {},
   "source": [
    "**Selecting the Level of Significance or α Level**"
   ]
  },
  {
   "cell_type": "markdown",
   "id": "5eac001f",
   "metadata": {},
   "source": [
    "Given that the confidence level (1 - α) is 95%, the significance level (α) is 5% (or 0.05). \n",
    "\n",
    "The chi-square goodness-of-fit test is almost always right-tailed because the test statistic, which is calculated as $\\sum \\frac {(O - E)^2}{E}$, is always positive."
   ]
  },
  {
   "cell_type": "markdown",
   "id": "dcb76c69",
   "metadata": {},
   "source": [
    "**Calculating Test Statistic and P-Value**"
   ]
  },
  {
   "cell_type": "code",
   "execution_count": 8,
   "id": "9f25db45",
   "metadata": {},
   "outputs": [
    {
     "data": {
      "text/plain": [
       "Power_divergenceResult(statistic=0.648148148148148, pvalue=0.8853267818237286)"
      ]
     },
     "execution_count": 8,
     "metadata": {},
     "output_type": "execute_result"
    }
   ],
   "source": [
    "stats.chisquare(obs_freq, exp_freq)"
   ]
  },
  {
   "cell_type": "markdown",
   "id": "84bfc063",
   "metadata": {},
   "source": [
    "**Interpreting Results**"
   ]
  },
  {
   "cell_type": "markdown",
   "id": "7ebee482",
   "metadata": {},
   "source": [
    "Since the p-value is greater than α = 0.05, we fail to reject the null hypothesis. Therefore, we conclude that the observed shirt sales follow the expected proportions."
   ]
  },
  {
   "cell_type": "markdown",
   "id": "0dc524dd",
   "metadata": {},
   "source": [
    "## II. Chi-Square Test of Independence in a Two-Way Table (or, a Contingency Table)"
   ]
  },
  {
   "cell_type": "markdown",
   "id": "f3c7647a",
   "metadata": {},
   "source": [
    "Unlike the one-way goodness-of-fit test, which involves only a single row of data, a contingency table—also known as a cross-tabulation or crosstab—is a matrix-style table that presents the frequency distribution of variables across both rows and columns. It is used to examine the relationship between two discrete variables."
   ]
  },
  {
   "cell_type": "markdown",
   "id": "41ee9ebc",
   "metadata": {},
   "source": [
    "*The formula used to calculate the Chi-Square Test of Independence for a two-way contingency table is the same as that used in the Chi-Square Goodness-of-Fit Test described above. However, the formula used to calculate the degrees of freedom is:*\n",
    "\n",
    "$df$ (Degrees of freedom) = (r - 1) * (c - 1)\n",
    "\n",
    "Where,\n",
    "r = number of rows and \n",
    "c = number of clumns"
   ]
  },
  {
   "cell_type": "markdown",
   "id": "f1938f47",
   "metadata": {},
   "source": [
    "**Creating Data**"
   ]
  },
  {
   "cell_type": "code",
   "execution_count": 9,
   "id": "fa667025",
   "metadata": {},
   "outputs": [
    {
     "data": {
      "text/html": [
       "<div>\n",
       "<style scoped>\n",
       "    .dataframe tbody tr th:only-of-type {\n",
       "        vertical-align: middle;\n",
       "    }\n",
       "\n",
       "    .dataframe tbody tr th {\n",
       "        vertical-align: top;\n",
       "    }\n",
       "\n",
       "    .dataframe thead th {\n",
       "        text-align: right;\n",
       "    }\n",
       "</style>\n",
       "<table border=\"1\" class=\"dataframe\">\n",
       "  <thead>\n",
       "    <tr style=\"text-align: right;\">\n",
       "      <th></th>\n",
       "      <th>Operator 1</th>\n",
       "      <th>Operator 2</th>\n",
       "      <th>Operator 3</th>\n",
       "    </tr>\n",
       "  </thead>\n",
       "  <tbody>\n",
       "    <tr>\n",
       "      <th>Shift 1</th>\n",
       "      <td>22</td>\n",
       "      <td>26</td>\n",
       "      <td>23</td>\n",
       "    </tr>\n",
       "    <tr>\n",
       "      <th>Shift 2</th>\n",
       "      <td>28</td>\n",
       "      <td>62</td>\n",
       "      <td>26</td>\n",
       "    </tr>\n",
       "    <tr>\n",
       "      <th>Shift 3</th>\n",
       "      <td>72</td>\n",
       "      <td>22</td>\n",
       "      <td>66</td>\n",
       "    </tr>\n",
       "  </tbody>\n",
       "</table>\n",
       "</div>"
      ],
      "text/plain": [
       "         Operator 1  Operator 2  Operator 3\n",
       "Shift 1          22          26          23\n",
       "Shift 2          28          62          26\n",
       "Shift 3          72          22          66"
      ]
     },
     "execution_count": 9,
     "metadata": {},
     "output_type": "execute_result"
    }
   ],
   "source": [
    "# Creating the data as a pandas DataFrame, where the rows correspond to Shift 1, Shift 2, and Shift 3, and the columns correspond to Operator 1, Operator 2, and Operator 3. \n",
    "shif_oper = pd.DataFrame(data=[[22, 26, 23], [28, 62, 26], [72, 22, 66]], index=['Shift 1', 'Shift 2', 'Shift 3'], columns=['Operator 1', 'Operator 2', 'Operator 3'])\n",
    "shif_oper"
   ]
  },
  {
   "cell_type": "markdown",
   "id": "7e2a2189",
   "metadata": {},
   "source": [
    "*The data is now presented in the same format as the contingency table.*"
   ]
  },
  {
   "cell_type": "markdown",
   "id": "e7235b5b",
   "metadata": {},
   "source": [
    "### *Question 1*"
   ]
  },
  {
   "cell_type": "markdown",
   "id": "e51a87c3",
   "metadata": {},
   "source": [
    "**Question 1:** Conduct a hypothesis test at the 95% confidence level to assess whether a relationship exists between the row (shift) and column (operator) variables, using the data presented above as a contingency table of observed frequencies. "
   ]
  },
  {
   "cell_type": "markdown",
   "id": "5c46ff50",
   "metadata": {},
   "source": [
    "**Stating Hypothesis**"
   ]
  },
  {
   "cell_type": "markdown",
   "id": "073601ae",
   "metadata": {},
   "source": [
    "Null hypothesis H0: There is no relationship between the row variable (shift) and the column variable (operator).\n",
    "\n",
    "Alternative hypothesis H1:  There is a relationship between the row variable (shift) and the column variable (operator).\n",
    "\n",
    "\n",
    "**Note:** In a contingency table analysis, the alternative hypothesis simply states that a relationship exists between the row and column variables. It doesn't specify:\n",
    "\n",
    "- The nature of that relationship (positive, negative, causal, etc.)\n",
    "\n",
    "- The direction or strength of the association\n",
    "\n",
    "- Which variable might influence the other"
   ]
  },
  {
   "cell_type": "markdown",
   "id": "e15543ed",
   "metadata": {},
   "source": [
    "**Selecting the Level of Significance or α Level**"
   ]
  },
  {
   "cell_type": "markdown",
   "id": "360e9379",
   "metadata": {},
   "source": [
    "Given that the confidence level (1 - α) is 95%, the significance level (α) is 5% (or 0.05). "
   ]
  },
  {
   "cell_type": "markdown",
   "id": "e7719b74",
   "metadata": {},
   "source": [
    "**Calculating Test Statistic and P-Value**"
   ]
  },
  {
   "cell_type": "code",
   "execution_count": 10,
   "id": "e472c96e",
   "metadata": {},
   "outputs": [
    {
     "data": {
      "text/plain": [
       "Chi2ContingencyResult(statistic=50.09315721064659, pvalue=3.4527076339398545e-10, dof=4, expected_freq=array([[24.96253602, 22.50720461, 23.53025937],\n",
       "       [40.78386167, 36.77233429, 38.44380403],\n",
       "       [56.25360231, 50.7204611 , 53.0259366 ]]))"
      ]
     },
     "execution_count": 10,
     "metadata": {},
     "output_type": "execute_result"
    }
   ],
   "source": [
    "stats.chi2_contingency(observed=shif_oper)\n",
    "# Here, the 'observed' parameter represents the data containing observed frequencies in the form of a contingency table.  "
   ]
  },
  {
   "cell_type": "markdown",
   "id": "75af5b24",
   "metadata": {},
   "source": [
    "Here, the calculated chi-squared value is 50.09 and the p-value is 3.4527076339398545e-10."
   ]
  },
  {
   "cell_type": "markdown",
   "id": "fbefbc65",
   "metadata": {},
   "source": [
    "**Interpreting Results**"
   ]
  },
  {
   "cell_type": "markdown",
   "id": "31417b5c",
   "metadata": {},
   "source": [
    "Since the p-value is less than α = 0.05, we reject the null hypothesis. Therefore, we conclude that there is a relationship between the row variable (shift) and the column variable (operator)."
   ]
  },
  {
   "cell_type": "markdown",
   "id": "469298be",
   "metadata": {},
   "source": [
    "### *Question 2*"
   ]
  },
  {
   "cell_type": "markdown",
   "id": "b4cd54ef",
   "metadata": {},
   "source": [
    "**Question 2:** Using the built-in Tips dataset from the Seaborn library, perform a hypothesis test at the 95% confidence level to assess whether a relationship exists between the row (day) and column (smoker) variables. "
   ]
  },
  {
   "cell_type": "markdown",
   "id": "68792745",
   "metadata": {},
   "source": [
    "**Loading Data**"
   ]
  },
  {
   "cell_type": "code",
   "execution_count": 11,
   "id": "7f818a2b",
   "metadata": {},
   "outputs": [
    {
     "data": {
      "text/plain": [
       "['anagrams',\n",
       " 'anscombe',\n",
       " 'attention',\n",
       " 'brain_networks',\n",
       " 'car_crashes',\n",
       " 'diamonds',\n",
       " 'dots',\n",
       " 'dowjones',\n",
       " 'exercise',\n",
       " 'flights',\n",
       " 'fmri',\n",
       " 'geyser',\n",
       " 'glue',\n",
       " 'healthexp',\n",
       " 'iris',\n",
       " 'mpg',\n",
       " 'penguins',\n",
       " 'planets',\n",
       " 'seaice',\n",
       " 'taxis',\n",
       " 'tips',\n",
       " 'titanic']"
      ]
     },
     "execution_count": 11,
     "metadata": {},
     "output_type": "execute_result"
    }
   ],
   "source": [
    "# Checking the Tips Dataset in the Seaborn library\n",
    "sns.get_dataset_names()"
   ]
  },
  {
   "cell_type": "code",
   "execution_count": 12,
   "id": "cd2399c1",
   "metadata": {},
   "outputs": [
    {
     "data": {
      "text/html": [
       "<div>\n",
       "<style scoped>\n",
       "    .dataframe tbody tr th:only-of-type {\n",
       "        vertical-align: middle;\n",
       "    }\n",
       "\n",
       "    .dataframe tbody tr th {\n",
       "        vertical-align: top;\n",
       "    }\n",
       "\n",
       "    .dataframe thead th {\n",
       "        text-align: right;\n",
       "    }\n",
       "</style>\n",
       "<table border=\"1\" class=\"dataframe\">\n",
       "  <thead>\n",
       "    <tr style=\"text-align: right;\">\n",
       "      <th></th>\n",
       "      <th>total_bill</th>\n",
       "      <th>tip</th>\n",
       "      <th>sex</th>\n",
       "      <th>smoker</th>\n",
       "      <th>day</th>\n",
       "      <th>time</th>\n",
       "      <th>size</th>\n",
       "    </tr>\n",
       "  </thead>\n",
       "  <tbody>\n",
       "    <tr>\n",
       "      <th>0</th>\n",
       "      <td>16.99</td>\n",
       "      <td>1.01</td>\n",
       "      <td>Female</td>\n",
       "      <td>No</td>\n",
       "      <td>Sun</td>\n",
       "      <td>Dinner</td>\n",
       "      <td>2</td>\n",
       "    </tr>\n",
       "    <tr>\n",
       "      <th>1</th>\n",
       "      <td>10.34</td>\n",
       "      <td>1.66</td>\n",
       "      <td>Male</td>\n",
       "      <td>No</td>\n",
       "      <td>Sun</td>\n",
       "      <td>Dinner</td>\n",
       "      <td>3</td>\n",
       "    </tr>\n",
       "    <tr>\n",
       "      <th>2</th>\n",
       "      <td>21.01</td>\n",
       "      <td>3.50</td>\n",
       "      <td>Male</td>\n",
       "      <td>No</td>\n",
       "      <td>Sun</td>\n",
       "      <td>Dinner</td>\n",
       "      <td>3</td>\n",
       "    </tr>\n",
       "    <tr>\n",
       "      <th>3</th>\n",
       "      <td>23.68</td>\n",
       "      <td>3.31</td>\n",
       "      <td>Male</td>\n",
       "      <td>No</td>\n",
       "      <td>Sun</td>\n",
       "      <td>Dinner</td>\n",
       "      <td>2</td>\n",
       "    </tr>\n",
       "    <tr>\n",
       "      <th>4</th>\n",
       "      <td>24.59</td>\n",
       "      <td>3.61</td>\n",
       "      <td>Female</td>\n",
       "      <td>No</td>\n",
       "      <td>Sun</td>\n",
       "      <td>Dinner</td>\n",
       "      <td>4</td>\n",
       "    </tr>\n",
       "  </tbody>\n",
       "</table>\n",
       "</div>"
      ],
      "text/plain": [
       "   total_bill   tip     sex smoker  day    time  size\n",
       "0       16.99  1.01  Female     No  Sun  Dinner     2\n",
       "1       10.34  1.66    Male     No  Sun  Dinner     3\n",
       "2       21.01  3.50    Male     No  Sun  Dinner     3\n",
       "3       23.68  3.31    Male     No  Sun  Dinner     2\n",
       "4       24.59  3.61  Female     No  Sun  Dinner     4"
      ]
     },
     "execution_count": 12,
     "metadata": {},
     "output_type": "execute_result"
    }
   ],
   "source": [
    "# Loading the Tips Dataset, a built-in data in the Seaborn library\n",
    "tips = sns.load_dataset('tips')\n",
    "tips.head()"
   ]
  },
  {
   "cell_type": "code",
   "execution_count": 13,
   "id": "da265fb6",
   "metadata": {},
   "outputs": [
    {
     "name": "stdout",
     "output_type": "stream",
     "text": [
      "<class 'pandas.core.frame.DataFrame'>\n",
      "RangeIndex: 244 entries, 0 to 243\n",
      "Data columns (total 7 columns):\n",
      " #   Column      Non-Null Count  Dtype   \n",
      "---  ------      --------------  -----   \n",
      " 0   total_bill  244 non-null    float64 \n",
      " 1   tip         244 non-null    float64 \n",
      " 2   sex         244 non-null    category\n",
      " 3   smoker      244 non-null    category\n",
      " 4   day         244 non-null    category\n",
      " 5   time        244 non-null    category\n",
      " 6   size        244 non-null    int64   \n",
      "dtypes: category(4), float64(2), int64(1)\n",
      "memory usage: 7.4 KB\n"
     ]
    }
   ],
   "source": [
    "# Checking info() method\n",
    "tips.info()"
   ]
  },
  {
   "cell_type": "code",
   "execution_count": 14,
   "id": "e332172c",
   "metadata": {},
   "outputs": [
    {
     "data": {
      "text/html": [
       "<div>\n",
       "<style scoped>\n",
       "    .dataframe tbody tr th:only-of-type {\n",
       "        vertical-align: middle;\n",
       "    }\n",
       "\n",
       "    .dataframe tbody tr th {\n",
       "        vertical-align: top;\n",
       "    }\n",
       "\n",
       "    .dataframe thead th {\n",
       "        text-align: right;\n",
       "    }\n",
       "</style>\n",
       "<table border=\"1\" class=\"dataframe\">\n",
       "  <thead>\n",
       "    <tr style=\"text-align: right;\">\n",
       "      <th></th>\n",
       "      <th></th>\n",
       "      <th>total_bill</th>\n",
       "      <th>tip</th>\n",
       "      <th>sex</th>\n",
       "      <th>time</th>\n",
       "      <th>size</th>\n",
       "    </tr>\n",
       "    <tr>\n",
       "      <th>day</th>\n",
       "      <th>smoker</th>\n",
       "      <th></th>\n",
       "      <th></th>\n",
       "      <th></th>\n",
       "      <th></th>\n",
       "      <th></th>\n",
       "    </tr>\n",
       "  </thead>\n",
       "  <tbody>\n",
       "    <tr>\n",
       "      <th rowspan=\"2\" valign=\"top\">Thur</th>\n",
       "      <th>Yes</th>\n",
       "      <td>17</td>\n",
       "      <td>17</td>\n",
       "      <td>17</td>\n",
       "      <td>17</td>\n",
       "      <td>17</td>\n",
       "    </tr>\n",
       "    <tr>\n",
       "      <th>No</th>\n",
       "      <td>45</td>\n",
       "      <td>45</td>\n",
       "      <td>45</td>\n",
       "      <td>45</td>\n",
       "      <td>45</td>\n",
       "    </tr>\n",
       "    <tr>\n",
       "      <th rowspan=\"2\" valign=\"top\">Fri</th>\n",
       "      <th>Yes</th>\n",
       "      <td>15</td>\n",
       "      <td>15</td>\n",
       "      <td>15</td>\n",
       "      <td>15</td>\n",
       "      <td>15</td>\n",
       "    </tr>\n",
       "    <tr>\n",
       "      <th>No</th>\n",
       "      <td>4</td>\n",
       "      <td>4</td>\n",
       "      <td>4</td>\n",
       "      <td>4</td>\n",
       "      <td>4</td>\n",
       "    </tr>\n",
       "    <tr>\n",
       "      <th rowspan=\"2\" valign=\"top\">Sat</th>\n",
       "      <th>Yes</th>\n",
       "      <td>42</td>\n",
       "      <td>42</td>\n",
       "      <td>42</td>\n",
       "      <td>42</td>\n",
       "      <td>42</td>\n",
       "    </tr>\n",
       "    <tr>\n",
       "      <th>No</th>\n",
       "      <td>45</td>\n",
       "      <td>45</td>\n",
       "      <td>45</td>\n",
       "      <td>45</td>\n",
       "      <td>45</td>\n",
       "    </tr>\n",
       "    <tr>\n",
       "      <th rowspan=\"2\" valign=\"top\">Sun</th>\n",
       "      <th>Yes</th>\n",
       "      <td>19</td>\n",
       "      <td>19</td>\n",
       "      <td>19</td>\n",
       "      <td>19</td>\n",
       "      <td>19</td>\n",
       "    </tr>\n",
       "    <tr>\n",
       "      <th>No</th>\n",
       "      <td>57</td>\n",
       "      <td>57</td>\n",
       "      <td>57</td>\n",
       "      <td>57</td>\n",
       "      <td>57</td>\n",
       "    </tr>\n",
       "  </tbody>\n",
       "</table>\n",
       "</div>"
      ],
      "text/plain": [
       "             total_bill  tip  sex  time  size\n",
       "day  smoker                                  \n",
       "Thur Yes             17   17   17    17    17\n",
       "     No              45   45   45    45    45\n",
       "Fri  Yes             15   15   15    15    15\n",
       "     No               4    4    4     4     4\n",
       "Sat  Yes             42   42   42    42    42\n",
       "     No              45   45   45    45    45\n",
       "Sun  Yes             19   19   19    19    19\n",
       "     No              57   57   57    57    57"
      ]
     },
     "execution_count": 14,
     "metadata": {},
     "output_type": "execute_result"
    }
   ],
   "source": [
    "# Using the 'groupby' method to group together the rows based off of the 'day' and 'smoker' columns and performing aggregate function such as count()\n",
    "tips.groupby(by=['day', 'smoker'], observed=True).count()"
   ]
  },
  {
   "cell_type": "code",
   "execution_count": 15,
   "id": "d9062bd1",
   "metadata": {},
   "outputs": [
    {
     "data": {
      "text/html": [
       "<div>\n",
       "<style scoped>\n",
       "    .dataframe tbody tr th:only-of-type {\n",
       "        vertical-align: middle;\n",
       "    }\n",
       "\n",
       "    .dataframe tbody tr th {\n",
       "        vertical-align: top;\n",
       "    }\n",
       "\n",
       "    .dataframe thead th {\n",
       "        text-align: right;\n",
       "    }\n",
       "</style>\n",
       "<table border=\"1\" class=\"dataframe\">\n",
       "  <thead>\n",
       "    <tr style=\"text-align: right;\">\n",
       "      <th>smoker</th>\n",
       "      <th>Yes</th>\n",
       "      <th>No</th>\n",
       "    </tr>\n",
       "    <tr>\n",
       "      <th>day</th>\n",
       "      <th></th>\n",
       "      <th></th>\n",
       "    </tr>\n",
       "  </thead>\n",
       "  <tbody>\n",
       "    <tr>\n",
       "      <th>Thur</th>\n",
       "      <td>17</td>\n",
       "      <td>45</td>\n",
       "    </tr>\n",
       "    <tr>\n",
       "      <th>Fri</th>\n",
       "      <td>15</td>\n",
       "      <td>4</td>\n",
       "    </tr>\n",
       "    <tr>\n",
       "      <th>Sat</th>\n",
       "      <td>42</td>\n",
       "      <td>45</td>\n",
       "    </tr>\n",
       "    <tr>\n",
       "      <th>Sun</th>\n",
       "      <td>19</td>\n",
       "      <td>57</td>\n",
       "    </tr>\n",
       "  </tbody>\n",
       "</table>\n",
       "</div>"
      ],
      "text/plain": [
       "smoker  Yes  No\n",
       "day            \n",
       "Thur     17  45\n",
       "Fri      15   4\n",
       "Sat      42  45\n",
       "Sun      19  57"
      ]
     },
     "execution_count": 15,
     "metadata": {},
     "output_type": "execute_result"
    }
   ],
   "source": [
    "# Creating a pivot table to reorganize or summarize the data accross rows and columns and then apply the aggregate function such as count() to the 'tip' column \n",
    "day_smoker_pivot = tips.pivot_table(values=tips, index='day', columns='smoker', aggfunc='count')['tip']\n",
    "day_smoker_pivot"
   ]
  },
  {
   "cell_type": "markdown",
   "id": "2c5e0f56",
   "metadata": {},
   "source": [
    "*The data is now presented in the same format as the contingency table.*"
   ]
  },
  {
   "cell_type": "code",
   "execution_count": 16,
   "id": "db7c62b1",
   "metadata": {},
   "outputs": [
    {
     "data": {
      "text/html": [
       "<div>\n",
       "<style scoped>\n",
       "    .dataframe tbody tr th:only-of-type {\n",
       "        vertical-align: middle;\n",
       "    }\n",
       "\n",
       "    .dataframe tbody tr th {\n",
       "        vertical-align: top;\n",
       "    }\n",
       "\n",
       "    .dataframe thead th {\n",
       "        text-align: right;\n",
       "    }\n",
       "</style>\n",
       "<table border=\"1\" class=\"dataframe\">\n",
       "  <thead>\n",
       "    <tr style=\"text-align: right;\">\n",
       "      <th>smoker</th>\n",
       "      <th>Yes</th>\n",
       "      <th>No</th>\n",
       "    </tr>\n",
       "    <tr>\n",
       "      <th>day</th>\n",
       "      <th></th>\n",
       "      <th></th>\n",
       "    </tr>\n",
       "  </thead>\n",
       "  <tbody>\n",
       "    <tr>\n",
       "      <th>Thur</th>\n",
       "      <td>17</td>\n",
       "      <td>45</td>\n",
       "    </tr>\n",
       "    <tr>\n",
       "      <th>Fri</th>\n",
       "      <td>15</td>\n",
       "      <td>4</td>\n",
       "    </tr>\n",
       "    <tr>\n",
       "      <th>Sat</th>\n",
       "      <td>42</td>\n",
       "      <td>45</td>\n",
       "    </tr>\n",
       "    <tr>\n",
       "      <th>Sun</th>\n",
       "      <td>19</td>\n",
       "      <td>57</td>\n",
       "    </tr>\n",
       "  </tbody>\n",
       "</table>\n",
       "</div>"
      ],
      "text/plain": [
       "smoker  Yes  No\n",
       "day            \n",
       "Thur     17  45\n",
       "Fri      15   4\n",
       "Sat      42  45\n",
       "Sun      19  57"
      ]
     },
     "execution_count": 16,
     "metadata": {},
     "output_type": "execute_result"
    }
   ],
   "source": [
    "# Contingency table can also be created directly using pd.crosstab() function to summarize the frequency of occurrences for combinations of two categorical variables\n",
    "day_smoker_contin = pd.crosstab(tips['day'], tips['smoker'])\n",
    "day_smoker_contin"
   ]
  },
  {
   "cell_type": "markdown",
   "id": "fbf77984",
   "metadata": {},
   "source": [
    "**Stating Hypothesis**"
   ]
  },
  {
   "cell_type": "markdown",
   "id": "c66b98d2",
   "metadata": {},
   "source": [
    "Null hypothesis H0: There is no relationship between the row variable (day of the week) and the column variable (smoker status) with respect to tips.\n",
    "\n",
    "Alternative hypothesis H1:  There is a relationship between the row variable (day of the week) and the column variable (smoker status) with respect to tips."
   ]
  },
  {
   "cell_type": "markdown",
   "id": "a046a3d5",
   "metadata": {},
   "source": [
    "**Selecting the Level of Significance or α Level**"
   ]
  },
  {
   "cell_type": "markdown",
   "id": "8f588926",
   "metadata": {},
   "source": [
    "Given that the confidence level (1 - α) is 95%, the significance level (α) is 5% (or 0.05). "
   ]
  },
  {
   "cell_type": "markdown",
   "id": "30d6f675",
   "metadata": {},
   "source": [
    "**Calculating Test Statistic and P-Value**"
   ]
  },
  {
   "cell_type": "code",
   "execution_count": 17,
   "id": "f74a5994",
   "metadata": {},
   "outputs": [
    {
     "data": {
      "text/plain": [
       "Chi2ContingencyResult(statistic=25.787216672396262, pvalue=1.0567572499836523e-05, dof=3, expected_freq=array([[23.63114754, 38.36885246],\n",
       "       [ 7.24180328, 11.75819672],\n",
       "       [33.15983607, 53.84016393],\n",
       "       [28.96721311, 47.03278689]]))"
      ]
     },
     "execution_count": 17,
     "metadata": {},
     "output_type": "execute_result"
    }
   ],
   "source": [
    "# Using the pivot table dataFrame\n",
    "stats.chi2_contingency(day_smoker_pivot)"
   ]
  },
  {
   "cell_type": "markdown",
   "id": "45018868",
   "metadata": {},
   "source": [
    "Here, the calculated chi-squared value is 25.78 and the p-value is 1.0567572499836523e-05."
   ]
  },
  {
   "cell_type": "code",
   "execution_count": 18,
   "id": "c371c619",
   "metadata": {},
   "outputs": [
    {
     "data": {
      "text/plain": [
       "Chi2ContingencyResult(statistic=25.787216672396262, pvalue=1.0567572499836523e-05, dof=3, expected_freq=array([[23.63114754, 38.36885246],\n",
       "       [ 7.24180328, 11.75819672],\n",
       "       [33.15983607, 53.84016393],\n",
       "       [28.96721311, 47.03278689]]))"
      ]
     },
     "execution_count": 18,
     "metadata": {},
     "output_type": "execute_result"
    }
   ],
   "source": [
    "# Using the contingency table dataFrame\n",
    "stats.chi2_contingency(day_smoker_contin)"
   ]
  },
  {
   "cell_type": "markdown",
   "id": "09266c40",
   "metadata": {},
   "source": [
    "Here, the calculated chi-squared value is 25.78 and the p-value is 1.0567572499836523e-05."
   ]
  },
  {
   "cell_type": "markdown",
   "id": "345b791b",
   "metadata": {},
   "source": [
    "**Interpreting Results**"
   ]
  },
  {
   "cell_type": "markdown",
   "id": "59ac198c",
   "metadata": {},
   "source": [
    "Since the p-value is less than α = 0.05, we reject the null hypothesis. Therefore, we conclude that there is a relationship between the row variable (day of the week) and the column variable (smoker status) with respect to tips."
   ]
  },
  {
   "cell_type": "code",
   "execution_count": null,
   "id": "c88fa169",
   "metadata": {},
   "outputs": [],
   "source": []
  }
 ],
 "metadata": {
  "kernelspec": {
   "display_name": "Python 3 (ipykernel)",
   "language": "python",
   "name": "python3"
  },
  "language_info": {
   "codemirror_mode": {
    "name": "ipython",
    "version": 3
   },
   "file_extension": ".py",
   "mimetype": "text/x-python",
   "name": "python",
   "nbconvert_exporter": "python",
   "pygments_lexer": "ipython3",
   "version": "3.10.16"
  }
 },
 "nbformat": 4,
 "nbformat_minor": 5
}
