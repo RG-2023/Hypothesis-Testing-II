{
 "cells": [
  {
   "cell_type": "markdown",
   "id": "27296282",
   "metadata": {},
   "source": [
    "# One-Sample Tests"
   ]
  },
  {
   "cell_type": "markdown",
   "id": "1c369a92",
   "metadata": {},
   "source": [
    "## I. One-Sample Z-Test "
   ]
  },
  {
   "cell_type": "markdown",
   "id": "fdecf9b0",
   "metadata": {},
   "source": [
    "**The conditions for one-sample z-test include:** \n",
    "- Samples are randomly selected\n",
    "- Each event/observation is independent of the other\n",
    "- Sampling distribution approximates normal distribution (or, the data follows a normal distribution)\n",
    "- Comparision of a sample mean with the population mean\n",
    "- Population variance is known \n",
    "- Sample size is large (i.e., n $\\geq$ 30)"
   ]
  },
  {
   "cell_type": "markdown",
   "id": "0289a619",
   "metadata": {},
   "source": [
    "The formula for the one-sample z-test is:\n",
    "\n",
    "$$\n",
    "Z\\ (cal.) = \\frac{(\\bar{x} - \\mu_0)}{\\frac{\\sigma}{\\sqrt{n}}}\n",
    "$$\n",
    "\n",
    "Where:\n",
    "\n",
    "$\\bar{x}$ = Sample mean  \n",
    "$\\mu_0$ = Population mean (hypothesized)  \n",
    "$\\sigma$ = Population standard deviation  \n",
    "$n$ = Sample size"
   ]
  },
  {
   "cell_type": "markdown",
   "id": "41e0b398",
   "metadata": {},
   "source": [
    "### *One-Sample Z-Test (Two-Tailed Test)*"
   ]
  },
  {
   "cell_type": "markdown",
   "id": "b60a6173",
   "metadata": {},
   "source": [
    "**Question:** A company produces perfume bottles with an average volume of 150 cc and a standard deviation of 2 cc. A sample of 100 bottles was randomly selected and measured, and the average volume was found to be 150.2 cc. Has the average volume changed from 150 cc? Perform a hypothesis test at the 95% confidence level."
   ]
  },
  {
   "cell_type": "markdown",
   "id": "78a3a4c4",
   "metadata": {},
   "source": [
    "**Importing Libraries**"
   ]
  },
  {
   "cell_type": "code",
   "execution_count": 1,
   "id": "015c5bbb",
   "metadata": {},
   "outputs": [],
   "source": [
    "import numpy as np\n",
    "import pandas as pd\n",
    "import matplotlib.pyplot as plt\n",
    "import seaborn as sns\n",
    "import scipy.stats as stats\n",
    "from statsmodels.stats import weightstats # Since the scipy.stats library doesn't include a z-test function, we need to import weightstats — which contains the z-test — from statsmodels.stats library.  "
   ]
  },
  {
   "cell_type": "markdown",
   "id": "069032e6",
   "metadata": {},
   "source": [
    "**Loading Data**"
   ]
  },
  {
   "cell_type": "code",
   "execution_count": 2,
   "id": "c4b2fb60",
   "metadata": {},
   "outputs": [],
   "source": [
    "# Reading data as df\n",
    "df = pd.read_csv('Machine1.csv')"
   ]
  },
  {
   "cell_type": "code",
   "execution_count": 3,
   "id": "1a153181",
   "metadata": {},
   "outputs": [
    {
     "data": {
      "text/html": [
       "<div>\n",
       "<style scoped>\n",
       "    .dataframe tbody tr th:only-of-type {\n",
       "        vertical-align: middle;\n",
       "    }\n",
       "\n",
       "    .dataframe tbody tr th {\n",
       "        vertical-align: top;\n",
       "    }\n",
       "\n",
       "    .dataframe thead th {\n",
       "        text-align: right;\n",
       "    }\n",
       "</style>\n",
       "<table border=\"1\" class=\"dataframe\">\n",
       "  <thead>\n",
       "    <tr style=\"text-align: right;\">\n",
       "      <th></th>\n",
       "      <th>Machine 1</th>\n",
       "    </tr>\n",
       "  </thead>\n",
       "  <tbody>\n",
       "    <tr>\n",
       "      <th>0</th>\n",
       "      <td>152.63</td>\n",
       "    </tr>\n",
       "    <tr>\n",
       "      <th>1</th>\n",
       "      <td>152.94</td>\n",
       "    </tr>\n",
       "    <tr>\n",
       "      <th>2</th>\n",
       "      <td>151.29</td>\n",
       "    </tr>\n",
       "    <tr>\n",
       "      <th>3</th>\n",
       "      <td>153.44</td>\n",
       "    </tr>\n",
       "    <tr>\n",
       "      <th>4</th>\n",
       "      <td>148.58</td>\n",
       "    </tr>\n",
       "  </tbody>\n",
       "</table>\n",
       "</div>"
      ],
      "text/plain": [
       "   Machine 1\n",
       "0     152.63\n",
       "1     152.94\n",
       "2     151.29\n",
       "3     153.44\n",
       "4     148.58"
      ]
     },
     "execution_count": 3,
     "metadata": {},
     "output_type": "execute_result"
    }
   ],
   "source": [
    "# Checking the head of dataFrame\n",
    "df.head()"
   ]
  },
  {
   "cell_type": "code",
   "execution_count": 4,
   "id": "ae1dbec8",
   "metadata": {},
   "outputs": [
    {
     "data": {
      "text/html": [
       "<div>\n",
       "<style scoped>\n",
       "    .dataframe tbody tr th:only-of-type {\n",
       "        vertical-align: middle;\n",
       "    }\n",
       "\n",
       "    .dataframe tbody tr th {\n",
       "        vertical-align: top;\n",
       "    }\n",
       "\n",
       "    .dataframe thead th {\n",
       "        text-align: right;\n",
       "    }\n",
       "</style>\n",
       "<table border=\"1\" class=\"dataframe\">\n",
       "  <thead>\n",
       "    <tr style=\"text-align: right;\">\n",
       "      <th></th>\n",
       "      <th>Machine 1</th>\n",
       "    </tr>\n",
       "  </thead>\n",
       "  <tbody>\n",
       "    <tr>\n",
       "      <th>count</th>\n",
       "      <td>100.000000</td>\n",
       "    </tr>\n",
       "    <tr>\n",
       "      <th>mean</th>\n",
       "      <td>150.203100</td>\n",
       "    </tr>\n",
       "    <tr>\n",
       "      <th>std</th>\n",
       "      <td>2.018812</td>\n",
       "    </tr>\n",
       "    <tr>\n",
       "      <th>min</th>\n",
       "      <td>145.550000</td>\n",
       "    </tr>\n",
       "    <tr>\n",
       "      <th>25%</th>\n",
       "      <td>148.717500</td>\n",
       "    </tr>\n",
       "    <tr>\n",
       "      <th>50%</th>\n",
       "      <td>150.285000</td>\n",
       "    </tr>\n",
       "    <tr>\n",
       "      <th>75%</th>\n",
       "      <td>151.502500</td>\n",
       "    </tr>\n",
       "    <tr>\n",
       "      <th>max</th>\n",
       "      <td>154.550000</td>\n",
       "    </tr>\n",
       "  </tbody>\n",
       "</table>\n",
       "</div>"
      ],
      "text/plain": [
       "        Machine 1\n",
       "count  100.000000\n",
       "mean   150.203100\n",
       "std      2.018812\n",
       "min    145.550000\n",
       "25%    148.717500\n",
       "50%    150.285000\n",
       "75%    151.502500\n",
       "max    154.550000"
      ]
     },
     "execution_count": 4,
     "metadata": {},
     "output_type": "execute_result"
    }
   ],
   "source": [
    "# Checking describe() method to see statistical summary of the numerical column of the dataset\n",
    "df.describe()"
   ]
  },
  {
   "cell_type": "markdown",
   "id": "c1997686",
   "metadata": {},
   "source": [
    "**Since our sample size is large (n = 100), we treat the sample standard deviation of 2 as an estimate of the population standard deviation.**"
   ]
  },
  {
   "cell_type": "code",
   "execution_count": 5,
   "id": "c8a23ca1",
   "metadata": {},
   "outputs": [
    {
     "name": "stdout",
     "output_type": "stream",
     "text": [
      "<class 'pandas.core.frame.DataFrame'>\n",
      "RangeIndex: 100 entries, 0 to 99\n",
      "Data columns (total 1 columns):\n",
      " #   Column     Non-Null Count  Dtype  \n",
      "---  ------     --------------  -----  \n",
      " 0   Machine 1  100 non-null    float64\n",
      "dtypes: float64(1)\n",
      "memory usage: 928.0 bytes\n"
     ]
    }
   ],
   "source": [
    "# Checking info() method\n",
    "df.info()"
   ]
  },
  {
   "cell_type": "markdown",
   "id": "951c9999",
   "metadata": {},
   "source": [
    "**Visualizing Data**"
   ]
  },
  {
   "cell_type": "code",
   "execution_count": 6,
   "id": "5209368a",
   "metadata": {},
   "outputs": [
    {
     "data": {
      "image/png": "[encoded data removed]",
      "text/plain": [
       "<Figure size 500x500 with 1 Axes>"
      ]
     },
     "metadata": {},
     "output_type": "display_data"
    }
   ],
   "source": [
    "# Plotting histogram\n",
    "sns.displot(data=df, x='Machine 1'); # By default, kind='hist' in the displot"
   ]
  },
  {
   "cell_type": "markdown",
   "id": "2c8b4b43",
   "metadata": {},
   "source": [
    "**Stating Hypothesis**"
   ]
  },
  {
   "cell_type": "markdown",
   "id": "aadb43bd",
   "metadata": {},
   "source": [
    "Null hypothesis H0: $\\mu$ = $\\mu_0$ or $\\mu$ = 150cc (The mean volume of bottles is 150cc — indicating no change in population mean)\n",
    "\n",
    "Alternative hypothesis H1: $\\mu$ $\\neq$ $\\mu_0$ or $\\mu$ $\\neq$ 150cc (The mean volume of bottles is different from 150cc — suggesting a change in population mean)\n",
    "\n",
    "Here, $\\mu$ refers to the true but unknown population mean we are testing."
   ]
  },
  {
   "cell_type": "markdown",
   "id": "14d0785f",
   "metadata": {},
   "source": [
    "**Selecting the Level of Significance or α Level or the Probability of Error**"
   ]
  },
  {
   "cell_type": "markdown",
   "id": "bf8f50b0",
   "metadata": {},
   "source": [
    "Given that the confidence level (1 - α) is 95%, the significance level (α) is 5% (or 0.05). Therefore, for a two-tailed test, the significance level for each tail is α/2 = 0.025."
   ]
  },
  {
   "cell_type": "markdown",
   "id": "32f3fe82",
   "metadata": {},
   "source": [
    "**Calculating Test Statistic and P-Value**"
   ]
  },
  {
   "cell_type": "code",
   "execution_count": 7,
   "id": "fe31f143",
   "metadata": {},
   "outputs": [
    {
     "data": {
      "text/plain": [
       "(1.0060370247722599, 0.3143977600779597)"
      ]
     },
     "execution_count": 7,
     "metadata": {},
     "output_type": "execute_result"
    }
   ],
   "source": [
    "weightstats.ztest(x1=df['Machine 1'], value=150, alternative='two-sided') \n",
    "# Here, the value of 150 is the hypothesized mean or the population mean against which we compare the sample mean\n",
    "# Alternative='two-sided' is the default test type here"
   ]
  },
  {
   "cell_type": "markdown",
   "id": "6976bdf0",
   "metadata": {},
   "source": [
    "Here, calculated test statistic (Z calculated or Z cal) is 1.00 and the two-tailed p-value associated with Z cal = 1 is 0.314."
   ]
  },
  {
   "cell_type": "markdown",
   "id": "9b77191b",
   "metadata": {},
   "source": [
    "**Interpreting Results**"
   ]
  },
  {
   "cell_type": "markdown",
   "id": "5d182429",
   "metadata": {},
   "source": [
    "Since the p-value is greater than α (0.05), we fail to reject the null hypothesis. Therefore, we conclude that there is no statistical evidence to show that the mean volume of the bottles has changed."
   ]
  },
  {
   "cell_type": "markdown",
   "id": "2211825a",
   "metadata": {},
   "source": [
    "### *One-Sample Z-Test (Right-Tailed Test)*"
   ]
  },
  {
   "cell_type": "markdown",
   "id": "70637e42",
   "metadata": {},
   "source": [
    "**Question:** A company produces perfume bottles with an average volume of 150 cc and a standard deviation of 2 cc. A sample of 100 bottles was randomly selected and measured, and the average volume was found to be 150.2 cc. Has the average volume increased from 150cc? Perform a hypothesis test at the 95% confidence level."
   ]
  },
  {
   "cell_type": "markdown",
   "id": "d3ff562e",
   "metadata": {},
   "source": [
    "**Stating Hypothesis**"
   ]
  },
  {
   "cell_type": "markdown",
   "id": "132a729a",
   "metadata": {},
   "source": [
    "Null hypothesis H0: $\\mu$ $\\leq$ $\\mu_0$ or $\\mu$ $\\leq$ 150cc (The mean volume of bottles is less than or equal to 150cc — indicating no increase in population mean)\n",
    "\n",
    "Alternative hypothesis H1: $\\mu$ $\\gt$ $\\mu_0$ or $\\mu$ $\\gt$ 150cc (The mean volume of bottles is greater than 150cc — suggesting an increase in the population mean)\n",
    "\n",
    "Here, $\\mu$ refers to the true but unknown population mean we are testing."
   ]
  },
  {
   "cell_type": "markdown",
   "id": "3e3e9d43",
   "metadata": {},
   "source": [
    "**Selecting the Level of Significance or α Level or the Probability of Error**"
   ]
  },
  {
   "cell_type": "markdown",
   "id": "f8bc2f26",
   "metadata": {},
   "source": [
    "Given that the confidence level (1 - α) is 95%, the level of significance (α) for the one-tailed test is 5% or 0.05. "
   ]
  },
  {
   "cell_type": "markdown",
   "id": "d20e16cf",
   "metadata": {},
   "source": [
    "**Calculating Test Statistic and P-Value**"
   ]
  },
  {
   "cell_type": "code",
   "execution_count": 8,
   "id": "8417db4f",
   "metadata": {},
   "outputs": [
    {
     "data": {
      "text/plain": [
       "(1.0060370247722599, 0.15719888003897986)"
      ]
     },
     "execution_count": 8,
     "metadata": {},
     "output_type": "execute_result"
    }
   ],
   "source": [
    "weightstats.ztest(x1=df['Machine 1'], value=150, alternative='larger') \n",
    "# Here, the value of 150 is the hypothesized mean or the population mean against which we compare the sample mean"
   ]
  },
  {
   "cell_type": "markdown",
   "id": "d768b315",
   "metadata": {},
   "source": [
    "Here, calculated test statistic (Z calculated or Z cal) is 1.00 and the right-tailed p-value associated with Z cal = 1 is 0.157."
   ]
  },
  {
   "cell_type": "markdown",
   "id": "ce297d13",
   "metadata": {},
   "source": [
    "**Interpreting Results**"
   ]
  },
  {
   "cell_type": "markdown",
   "id": "54ae46c5",
   "metadata": {},
   "source": [
    "Since the p-value is greater than α = 0.05, we fail to reject the null hypothesis. Therefore, we conclude that there is insufficient statistical evidence to support an increase in the mean volume of the bottles from 150 cc."
   ]
  },
  {
   "cell_type": "markdown",
   "id": "1151059c",
   "metadata": {},
   "source": [
    "### A t-test is also an alternative to a z-test when the sample size is large\n",
    "A t-distribution approaches the z-distribution (or a standard normal distribution) when the sample size increases."
   ]
  },
  {
   "cell_type": "markdown",
   "id": "e9069a15",
   "metadata": {},
   "source": [
    "**Let’s check this by performing a t-test using the scipy.stats module.**  "
   ]
  },
  {
   "cell_type": "code",
   "execution_count": 9,
   "id": "f61f3c61",
   "metadata": {},
   "outputs": [
    {
     "data": {
      "text/plain": [
       "TtestResult(statistic=1.0060370247722599, pvalue=0.3168503751206756, df=99)"
      ]
     },
     "execution_count": 9,
     "metadata": {},
     "output_type": "execute_result"
    }
   ],
   "source": [
    "# For Two-Tailed Test\n",
    "stats.ttest_1samp(a=df['Machine 1'], popmean=150, alternative='two-sided')"
   ]
  },
  {
   "cell_type": "markdown",
   "id": "e4dcd375",
   "metadata": {},
   "source": [
    "Here, the t-test yields similar results to the two-sided z-test conducted above."
   ]
  },
  {
   "cell_type": "code",
   "execution_count": 10,
   "id": "66655a6e",
   "metadata": {},
   "outputs": [
    {
     "data": {
      "text/plain": [
       "TtestResult(statistic=1.0060370247722599, pvalue=0.1584251875603378, df=99)"
      ]
     },
     "execution_count": 10,
     "metadata": {},
     "output_type": "execute_result"
    }
   ],
   "source": [
    "# For Right-Tailed Test\n",
    "stats.ttest_1samp(a=df['Machine 1'], popmean=150, alternative='greater')"
   ]
  },
  {
   "cell_type": "markdown",
   "id": "99b02e73",
   "metadata": {},
   "source": [
    "Here, the t-test yields similar results to the right-tailed z-test conducted above."
   ]
  },
  {
   "cell_type": "markdown",
   "id": "2311a8e9",
   "metadata": {},
   "source": [
    "## II. One-Sample T-Test "
   ]
  },
  {
   "cell_type": "markdown",
   "id": "a2491143",
   "metadata": {},
   "source": [
    "**The conditions for one-sample t-test include:**\n",
    "- Samples are randomly selected\n",
    "- Each event/observation is independent of the other\n",
    "- Sampling distribution approximates normal distribution (or, the data follows a normal distribution)\n",
    "- Comparision of a sample mean with the population mean\n",
    "- Population variance is unknown \n",
    "- Sample size is small (i.e., n $\\lt$ 30)"
   ]
  },
  {
   "cell_type": "markdown",
   "id": "41d35186",
   "metadata": {},
   "source": [
    "The formula for the one-sample t-test is:\n",
    "\n",
    "$$ t\\ (cal.) = \\frac{\\bar{x} - \\mu_0}{\\frac{s}{\\sqrt{n}}} $$\n",
    "\n",
    "Where:\n",
    "\n",
    "$\\bar{x}$ = Sample mean\n",
    "\n",
    "$\\mu_0$ = Population mean (hypothesized) \n",
    "\n",
    "$s$ = Sample standard deviation\n",
    "\n",
    "$n$ = Sample size"
   ]
  },
  {
   "cell_type": "markdown",
   "id": "7a87f932",
   "metadata": {},
   "source": [
    "### *One-Sample T-Test (Two-Tailed Test)*"
   ]
  },
  {
   "cell_type": "markdown",
   "id": "efe4ed0d",
   "metadata": {},
   "source": [
    "**Question:** A company produces perfume bottles with an average volume of 150 cc. We randomly selected 4 bottles and found their average volume to be 151 cc, with a standard deviation of 2 cc. Has the mean volume of the bottles changed? Perform a hypothesis test at the 95% confidence level."
   ]
  },
  {
   "cell_type": "markdown",
   "id": "7f475924",
   "metadata": {},
   "source": [
    "**Importing Libraries**"
   ]
  },
  {
   "cell_type": "code",
   "execution_count": 11,
   "id": "c36f1b72",
   "metadata": {},
   "outputs": [],
   "source": [
    "import numpy as np\n",
    "import pandas as pd\n",
    "import matplotlib.pyplot as plt\n",
    "import seaborn as sns\n",
    "import scipy.stats as stats"
   ]
  },
  {
   "cell_type": "markdown",
   "id": "2503b9e6",
   "metadata": {},
   "source": [
    "**Creating Data**"
   ]
  },
  {
   "cell_type": "code",
   "execution_count": 12,
   "id": "3d315e64",
   "metadata": {},
   "outputs": [
    {
     "data": {
      "text/plain": [
       "0    148.5\n",
       "1    153.4\n",
       "2    150.9\n",
       "3    151.2\n",
       "dtype: float64"
      ]
     },
     "execution_count": 12,
     "metadata": {},
     "output_type": "execute_result"
    }
   ],
   "source": [
    "# Creating a pandas Series (i.e., data) with the represention of the volume of four bottles and assigning it to a variable named 'volume'\n",
    "volume = pd.Series([148.5, 153.4, 150.9, 151.2])\n",
    "volume"
   ]
  },
  {
   "cell_type": "code",
   "execution_count": 13,
   "id": "9b62b8c6",
   "metadata": {},
   "outputs": [
    {
     "data": {
      "text/plain": [
       "count      4.000000\n",
       "mean     151.000000\n",
       "std        2.004994\n",
       "min      148.500000\n",
       "25%      150.300000\n",
       "50%      151.050000\n",
       "75%      151.750000\n",
       "max      153.400000\n",
       "dtype: float64"
      ]
     },
     "execution_count": 13,
     "metadata": {},
     "output_type": "execute_result"
    }
   ],
   "source": [
    "# Checking describe() method to see statistical summary of the dataset\n",
    "volume.describe()"
   ]
  },
  {
   "cell_type": "markdown",
   "id": "a5c5d638",
   "metadata": {},
   "source": [
    "**Visualizing Data**"
   ]
  },
  {
   "cell_type": "code",
   "execution_count": 14,
   "id": "81b76da9",
   "metadata": {},
   "outputs": [
    {
     "data": {
      "image/png": "[encoded data removed]",
      "text/plain": [
       "<Figure size 500x500 with 1 Axes>"
      ]
     },
     "metadata": {},
     "output_type": "display_data"
    }
   ],
   "source": [
    "# Plotting histogram\n",
    "sns.displot(data=volume); # By default, kind='hist' in the displot"
   ]
  },
  {
   "cell_type": "markdown",
   "id": "8a78f2b5",
   "metadata": {},
   "source": [
    "**Stating Hypothesis**"
   ]
  },
  {
   "cell_type": "markdown",
   "id": "d25b5365",
   "metadata": {},
   "source": [
    "Null hypothesis H0: $\\mu$ = $\\mu_0$ or $\\mu$ = 150cc (The mean volume of bottles is 150cc — indicating no change in population mean)\n",
    "\n",
    "Alternative hypothesis H1: $\\mu$ $\\neq$ $\\mu_0$ or $\\mu$ $\\neq$ 150cc (The mean volume of bottles is different from 150cc — suggesting a change in population mean)\n",
    "\n",
    "Here, $\\mu$ refers to the true but unknown population mean we are testing."
   ]
  },
  {
   "cell_type": "markdown",
   "id": "8c0a9ca5",
   "metadata": {},
   "source": [
    "**Selecting the Level of Significance or α Level or the Probability of Error**"
   ]
  },
  {
   "cell_type": "markdown",
   "id": "cd3af3fd",
   "metadata": {},
   "source": [
    "Given that the confidence level (1 - α) is 95%, the significance level (α) is 5% (or 0.05). Therefore, for a two-tailed test, the significance level for each tail is α/2 = 0.025."
   ]
  },
  {
   "cell_type": "markdown",
   "id": "04cda16c",
   "metadata": {},
   "source": [
    "**Calculating Test Statistic and P-Value**"
   ]
  },
  {
   "cell_type": "code",
   "execution_count": 15,
   "id": "8ffaa6c3",
   "metadata": {},
   "outputs": [
    {
     "data": {
      "text/plain": [
       "TtestResult(statistic=0.997509336107632, pvalue=0.3920333832606524, df=3)"
      ]
     },
     "execution_count": 15,
     "metadata": {},
     "output_type": "execute_result"
    }
   ],
   "source": [
    "stats.ttest_1samp(a=volume, popmean=150, alternative='two-sided')\n",
    "# Here, alternative='two-sided' is the default test type "
   ]
  },
  {
   "cell_type": "markdown",
   "id": "5a04c022",
   "metadata": {},
   "source": [
    "**Interpreting Results**"
   ]
  },
  {
   "cell_type": "markdown",
   "id": "ef1636ce",
   "metadata": {},
   "source": [
    "Since the p-value is greater than α = 0.05, we fail to reject the null hypothesis. Therefore, we conclude that the mean volume of the bottles has not significantly changed from 150 cc."
   ]
  },
  {
   "cell_type": "markdown",
   "id": "1d6d87ab",
   "metadata": {},
   "source": [
    "### *One-Sample T-Test (Right-Tailed Test)*"
   ]
  },
  {
   "cell_type": "markdown",
   "id": "4d0d2a0f",
   "metadata": {},
   "source": [
    "**Question:** A company produces perfume bottles with an average volume of 150 cc. We randomly selected 4 bottles and found their average volume to be 151 cc, with a standard deviation of 2 cc. Has the mean volume of the bottles increased? Perform a hypothesis test at the 95% confidence level."
   ]
  },
  {
   "cell_type": "markdown",
   "id": "cd7e675b",
   "metadata": {},
   "source": [
    "**Stating Hypothesis**"
   ]
  },
  {
   "cell_type": "markdown",
   "id": "9505b297",
   "metadata": {},
   "source": [
    "Null hypothesis H0: $\\mu$ $\\leq$ $\\mu_0$ or $\\mu$ $\\leq$ 150cc (The mean volume of bottles is less than or equal to 150cc — indicating no increase in population mean)\n",
    "\n",
    "Alternative hypothesis H1: $\\mu$ $\\gt$ $\\mu_0$ or $\\mu$ $\\gt$ 150cc (The mean volume of bottles is greater than 150cc — suggesting an increase in the population mean)\n",
    "\n",
    "Here, $\\mu$ refers to the true but unknown population mean we are testing."
   ]
  },
  {
   "cell_type": "markdown",
   "id": "c93c14fd",
   "metadata": {},
   "source": [
    "**Selecting the Level of Significance or α Level or the Probability of Error**"
   ]
  },
  {
   "cell_type": "markdown",
   "id": "f88deab8",
   "metadata": {},
   "source": [
    "Given that the confidence level (1 - α) is 95%, the level of significance (α) for the one-tailed test is 5% or 0.05. "
   ]
  },
  {
   "cell_type": "markdown",
   "id": "84605c56",
   "metadata": {},
   "source": [
    "**Calculating Test Statistic and P-Value**"
   ]
  },
  {
   "cell_type": "code",
   "execution_count": 16,
   "id": "d6557a70",
   "metadata": {},
   "outputs": [
    {
     "data": {
      "text/plain": [
       "TtestResult(statistic=0.997509336107632, pvalue=0.1960166916303262, df=3)"
      ]
     },
     "execution_count": 16,
     "metadata": {},
     "output_type": "execute_result"
    }
   ],
   "source": [
    "stats.ttest_1samp(a=volume, popmean=150, alternative='greater')"
   ]
  },
  {
   "cell_type": "markdown",
   "id": "9d28a603",
   "metadata": {},
   "source": [
    "**Interpreting Results**"
   ]
  },
  {
   "cell_type": "markdown",
   "id": "9e387aaa",
   "metadata": {},
   "source": [
    "Since the p-value is greater than α = 0.05, we fail to reject the null hypothesis. Therefore, we conclude that the mean volume of the bottles has not significantly increassed from 150 cc."
   ]
  },
  {
   "cell_type": "markdown",
   "id": "79c2b944",
   "metadata": {},
   "source": [
    "## III. One-Sample Proportion Test"
   ]
  },
  {
   "cell_type": "markdown",
   "id": "f2829cd9",
   "metadata": {},
   "source": [
    "**The conditions for one-sample proportion test include:** \n",
    "- Samples are randomly selected\n",
    "- Each event/observation is independent of the other\n",
    "- The data has only 2 categories (or 2 possible outcomes), such as yes/no or pass/fail\n",
    "- Comparision of a sample proportion with the population proportion "
   ]
  },
  {
   "cell_type": "markdown",
   "id": "08cdd9a2",
   "metadata": {},
   "source": [
    "### 'One Proportion Z-Test' For One-Sample Proportion Test"
   ]
  },
  {
   "cell_type": "markdown",
   "id": "3edce5b9",
   "metadata": {},
   "source": [
    "**To approximate a binomial distribution with a normal distribution,** a condition for a one-sample proportion test is that the data should include at least 10 successes (i.e., $n\\ p_0$ $\\geq$ 10) and 10 failures (i.e., n (1 - $\\ p_0$) $\\geq$ 10). **Some sources, however, suggest a minimum of 5 successes and 5 failures instead.**\n",
    "\n",
    "Here, the formula for the one-proportion z-statistic is:\n",
    "\n",
    "$$ Z\\ (cal.) = \\frac{\\hat p - p_0}{\\sqrt{\\frac{p_0 (1 - p_0)}{n}}}\\ or \\ {\\frac{\\hat p - p_0}{SE}}$$\n",
    "\n",
    "Where:\n",
    "\n",
    "$\\hat p$ = Sample proportion\n",
    "\n",
    "$p_0$ = Population proportion (hypothesized)\n",
    "\n",
    "$n$ = Sample size\n",
    "\n",
    "$SE$ = Standard error"
   ]
  },
  {
   "cell_type": "markdown",
   "id": "487642cb",
   "metadata": {},
   "source": [
    "### *One-Sample Proportion Test (Two-Tailed Test)*"
   ]
  },
  {
   "cell_type": "markdown",
   "id": "f190c7ae",
   "metadata": {},
   "source": [
    "**Question:** The smoking rate in a city was previously 21%. When 100 individuals in the city were randomly selected and examined for smoking habits, 14 were identified as smokers. Has the smoking rate in the city changed? Perform a hypothesis test at the 95% confidence level."
   ]
  },
  {
   "cell_type": "markdown",
   "id": "8744ee0d",
   "metadata": {},
   "source": [
    "**Importing Libraries**"
   ]
  },
  {
   "cell_type": "code",
   "execution_count": 17,
   "id": "a6d705be",
   "metadata": {},
   "outputs": [],
   "source": [
    "import numpy as np\n",
    "import pandas as pd\n",
    "import matplotlib.pyplot as plt\n",
    "import seaborn as sns\n",
    "import scipy.stats as stats\n",
    "from statsmodels.stats.proportion import proportions_ztest"
   ]
  },
  {
   "cell_type": "markdown",
   "id": "83d3adfe",
   "metadata": {},
   "source": [
    "**Loading Data**"
   ]
  },
  {
   "cell_type": "code",
   "execution_count": 18,
   "id": "de8f18b3",
   "metadata": {},
   "outputs": [
    {
     "data": {
      "text/html": [
       "<div>\n",
       "<style scoped>\n",
       "    .dataframe tbody tr th:only-of-type {\n",
       "        vertical-align: middle;\n",
       "    }\n",
       "\n",
       "    .dataframe tbody tr th {\n",
       "        vertical-align: top;\n",
       "    }\n",
       "\n",
       "    .dataframe thead th {\n",
       "        text-align: right;\n",
       "    }\n",
       "</style>\n",
       "<table border=\"1\" class=\"dataframe\">\n",
       "  <thead>\n",
       "    <tr style=\"text-align: right;\">\n",
       "      <th></th>\n",
       "      <th>Name</th>\n",
       "      <th>Smokers</th>\n",
       "    </tr>\n",
       "  </thead>\n",
       "  <tbody>\n",
       "    <tr>\n",
       "      <th>0</th>\n",
       "      <td>Person 1</td>\n",
       "      <td>No</td>\n",
       "    </tr>\n",
       "    <tr>\n",
       "      <th>1</th>\n",
       "      <td>Person 2</td>\n",
       "      <td>No</td>\n",
       "    </tr>\n",
       "    <tr>\n",
       "      <th>2</th>\n",
       "      <td>Person 3</td>\n",
       "      <td>No</td>\n",
       "    </tr>\n",
       "    <tr>\n",
       "      <th>3</th>\n",
       "      <td>Person 4</td>\n",
       "      <td>Yes</td>\n",
       "    </tr>\n",
       "    <tr>\n",
       "      <th>4</th>\n",
       "      <td>Person 5</td>\n",
       "      <td>No</td>\n",
       "    </tr>\n",
       "  </tbody>\n",
       "</table>\n",
       "</div>"
      ],
      "text/plain": [
       "       Name Smokers\n",
       "0  Person 1      No\n",
       "1  Person 2      No\n",
       "2  Person 3      No\n",
       "3  Person 4     Yes\n",
       "4  Person 5      No"
      ]
     },
     "execution_count": 18,
     "metadata": {},
     "output_type": "execute_result"
    }
   ],
   "source": [
    "# Reading data as smk\n",
    "smk = pd.read_csv('Smokers.csv')\n",
    "smk.head()"
   ]
  },
  {
   "cell_type": "code",
   "execution_count": 19,
   "id": "aa984228",
   "metadata": {},
   "outputs": [
    {
     "data": {
      "text/html": [
       "<div>\n",
       "<style scoped>\n",
       "    .dataframe tbody tr th:only-of-type {\n",
       "        vertical-align: middle;\n",
       "    }\n",
       "\n",
       "    .dataframe tbody tr th {\n",
       "        vertical-align: top;\n",
       "    }\n",
       "\n",
       "    .dataframe thead th {\n",
       "        text-align: right;\n",
       "    }\n",
       "</style>\n",
       "<table border=\"1\" class=\"dataframe\">\n",
       "  <thead>\n",
       "    <tr style=\"text-align: right;\">\n",
       "      <th></th>\n",
       "      <th>Name</th>\n",
       "      <th>Smokers</th>\n",
       "    </tr>\n",
       "  </thead>\n",
       "  <tbody>\n",
       "    <tr>\n",
       "      <th>count</th>\n",
       "      <td>100</td>\n",
       "      <td>100</td>\n",
       "    </tr>\n",
       "    <tr>\n",
       "      <th>unique</th>\n",
       "      <td>100</td>\n",
       "      <td>2</td>\n",
       "    </tr>\n",
       "    <tr>\n",
       "      <th>top</th>\n",
       "      <td>Person 1</td>\n",
       "      <td>No</td>\n",
       "    </tr>\n",
       "    <tr>\n",
       "      <th>freq</th>\n",
       "      <td>1</td>\n",
       "      <td>86</td>\n",
       "    </tr>\n",
       "  </tbody>\n",
       "</table>\n",
       "</div>"
      ],
      "text/plain": [
       "            Name Smokers\n",
       "count        100     100\n",
       "unique       100       2\n",
       "top     Person 1      No\n",
       "freq           1      86"
      ]
     },
     "execution_count": 19,
     "metadata": {},
     "output_type": "execute_result"
    }
   ],
   "source": [
    "# Checking describe() method\n",
    "smk.describe()"
   ]
  },
  {
   "cell_type": "code",
   "execution_count": 20,
   "id": "8bfef6e9",
   "metadata": {},
   "outputs": [
    {
     "data": {
      "text/html": [
       "<div>\n",
       "<style scoped>\n",
       "    .dataframe tbody tr th:only-of-type {\n",
       "        vertical-align: middle;\n",
       "    }\n",
       "\n",
       "    .dataframe tbody tr th {\n",
       "        vertical-align: top;\n",
       "    }\n",
       "\n",
       "    .dataframe thead th {\n",
       "        text-align: right;\n",
       "    }\n",
       "</style>\n",
       "<table border=\"1\" class=\"dataframe\">\n",
       "  <thead>\n",
       "    <tr style=\"text-align: right;\">\n",
       "      <th></th>\n",
       "      <th>Name</th>\n",
       "    </tr>\n",
       "    <tr>\n",
       "      <th>Smokers</th>\n",
       "      <th></th>\n",
       "    </tr>\n",
       "  </thead>\n",
       "  <tbody>\n",
       "    <tr>\n",
       "      <th>No</th>\n",
       "      <td>86</td>\n",
       "    </tr>\n",
       "    <tr>\n",
       "      <th>Yes</th>\n",
       "      <td>14</td>\n",
       "    </tr>\n",
       "  </tbody>\n",
       "</table>\n",
       "</div>"
      ],
      "text/plain": [
       "         Name\n",
       "Smokers      \n",
       "No         86\n",
       "Yes        14"
      ]
     },
     "execution_count": 20,
     "metadata": {},
     "output_type": "execute_result"
    }
   ],
   "source": [
    "# Grouping data into 'Yes (Smokers)' and 'No (non-smokers)' categories and applying aggregate function like count()\n",
    "smk_category = smk.groupby(by='Smokers').count()\n",
    "smk_category"
   ]
  },
  {
   "cell_type": "code",
   "execution_count": 21,
   "id": "07720efe",
   "metadata": {},
   "outputs": [
    {
     "data": {
      "text/html": [
       "<div>\n",
       "<style scoped>\n",
       "    .dataframe tbody tr th:only-of-type {\n",
       "        vertical-align: middle;\n",
       "    }\n",
       "\n",
       "    .dataframe tbody tr th {\n",
       "        vertical-align: top;\n",
       "    }\n",
       "\n",
       "    .dataframe thead th {\n",
       "        text-align: right;\n",
       "    }\n",
       "</style>\n",
       "<table border=\"1\" class=\"dataframe\">\n",
       "  <thead>\n",
       "    <tr style=\"text-align: right;\">\n",
       "      <th></th>\n",
       "      <th>Name</th>\n",
       "    </tr>\n",
       "    <tr>\n",
       "      <th>Smokers</th>\n",
       "      <th></th>\n",
       "    </tr>\n",
       "  </thead>\n",
       "  <tbody>\n",
       "    <tr>\n",
       "      <th>Yes</th>\n",
       "      <td>14</td>\n",
       "    </tr>\n",
       "    <tr>\n",
       "      <th>No</th>\n",
       "      <td>86</td>\n",
       "    </tr>\n",
       "  </tbody>\n",
       "</table>\n",
       "</div>"
      ],
      "text/plain": [
       "         Name\n",
       "Smokers      \n",
       "Yes        14\n",
       "No         86"
      ]
     },
     "execution_count": 21,
     "metadata": {},
     "output_type": "execute_result"
    }
   ],
   "source": [
    "# Reordering the index \n",
    "smk_yes_no = smk_category.reindex(['Yes', 'No'])\n",
    "smk_yes_no"
   ]
  },
  {
   "cell_type": "markdown",
   "id": "e34c025c",
   "metadata": {},
   "source": [
    "**Stating Hypothesis**"
   ]
  },
  {
   "cell_type": "markdown",
   "id": "6b82783f",
   "metadata": {},
   "source": [
    "Null hypothesis H0: p = p0 or p = 0.21 (The proportion of smokers in the city is 21% - indicating no change in population proportion)\n",
    "\n",
    "Alternative hypothesis H1: p $\\neq$ p0 or p $\\neq$ 0.21 (The proportion of smokers in the city is different from 21% - suggesting a change in the population proportion)\n",
    "\n",
    "Here, $p$ refers to the true but unknown population proportion we are testing."
   ]
  },
  {
   "cell_type": "markdown",
   "id": "15f1474e",
   "metadata": {},
   "source": [
    "**Selecting the Level of Significance or α Level or the Probability of Error**"
   ]
  },
  {
   "cell_type": "markdown",
   "id": "8df1f22f",
   "metadata": {},
   "source": [
    "Given that the confidence level (1 - α) is 95%, the significance level (α) is 5% (or 0.05). Therefore, for a two-tailed test, the significance level for each tail is α/2 = 0.025."
   ]
  },
  {
   "cell_type": "markdown",
   "id": "de356702",
   "metadata": {},
   "source": [
    "**Calculating Test Statistic and P-Value**"
   ]
  },
  {
   "cell_type": "markdown",
   "id": "41e20f12",
   "metadata": {},
   "source": [
    "Here, we perform **One Proportion Z-Test** using proportions_ztest() function from the Statsmodels library, which is based on a normal (z) test, as **it approximates the binomial distribution with a normal distribution**."
   ]
  },
  {
   "cell_type": "code",
   "execution_count": 22,
   "id": "c8796395",
   "metadata": {},
   "outputs": [
    {
     "data": {
      "text/plain": [
       "(-1.7186001564908264, 0.08568720317038374)"
      ]
     },
     "execution_count": 22,
     "metadata": {},
     "output_type": "execute_result"
    }
   ],
   "source": [
    "# Using 'Score Method' or 'Expected Proportion' (i.e., by using 'value = expected/hypothesized proportion')\n",
    "# In the Score Method, we also set the proportion variance (or prop_var) equal to the hypothesized population proportion.\n",
    "proportions_ztest(count=14, nobs=100, value=0.21, prop_var=0.21, alternative='two-sided')\n",
    "# Here, count = n * p where, n is the sample size that equals to 'nobs', and p is the observed/sample proportion "
   ]
  },
  {
   "cell_type": "code",
   "execution_count": 23,
   "id": "f64e0070",
   "metadata": {},
   "outputs": [
    {
     "data": {
      "text/plain": [
       "(1.7186001564908264, 0.08568720317038374)"
      ]
     },
     "execution_count": 23,
     "metadata": {},
     "output_type": "execute_result"
    }
   ],
   "source": [
    "# Using 'Wald Method' or 'Observed Proportion' (i.e., by using 'value = observed/sample proportion')\n",
    "proportions_ztest(count=21, nobs=100, value=.14, alternative='two-sided')\n",
    "# Here, count = n * p0 where, n is the sample size that equals to 'nobs', and p0 is the hypothesized proportion"
   ]
  },
  {
   "cell_type": "markdown",
   "id": "48540f23",
   "metadata": {},
   "source": [
    "Here, calculated test statistic (Z cal) is 1.71 and the two-tailed p-value associated with Z cal = 1.71 is 0.085."
   ]
  },
  {
   "cell_type": "markdown",
   "id": "49b2c077",
   "metadata": {},
   "source": [
    "**Interpreting Results**"
   ]
  },
  {
   "cell_type": "markdown",
   "id": "3ea4e4a2",
   "metadata": {},
   "source": [
    "Since the p-value is greater than α = 0.05, we fail to reject the null hypothesis. Therefore, we conclude that population proportion of the smokers in the city has not significantly changed from 21%."
   ]
  },
  {
   "cell_type": "markdown",
   "id": "7eb42942",
   "metadata": {},
   "source": [
    "### *One-Sample Proportion Test (Left-Tailed Test)*"
   ]
  },
  {
   "cell_type": "markdown",
   "id": "528650df",
   "metadata": {},
   "source": [
    "**Question:** The smoking rate in a city was previously 21%. When 100 individuals in the city were randomly selected and examined for smoking habits, 14 were identified as smokers. Has the smoking rate in the city reduced? Perform a hypothesis test at the 95% confidence level."
   ]
  },
  {
   "cell_type": "markdown",
   "id": "234fffd4",
   "metadata": {},
   "source": [
    "**Stating Hypothesis**"
   ]
  },
  {
   "cell_type": "markdown",
   "id": "46d28366",
   "metadata": {},
   "source": [
    "Null hypothesis H0: p $\\geq$ p0 or p $\\geq$ 0.21 (The current proportion of smokers in the city is greater than or equal to 0.21, suggesting that there has been no decrease in the proportion of smokers in the population)\n",
    "\n",
    "Alternative hypothesis H1: p $\\lt$ p0 or p $\\lt$ 0.21 (The current proportion of smokers in the city is less than 0.21, suggesting a decrease in the proportion of smokers in the population)\n",
    "\n",
    "Here, $p$ refers to the true but unknown population proportion we are testing."
   ]
  },
  {
   "cell_type": "markdown",
   "id": "e301ffe5",
   "metadata": {},
   "source": [
    "**Selecting the Level of Significance or α Level or the Probability of Error**"
   ]
  },
  {
   "cell_type": "markdown",
   "id": "d083bb27",
   "metadata": {},
   "source": [
    "Given that the confidence level (1 - α) is 95%, the level of significance (α) for the one-tailed test is 5% or 0.05. "
   ]
  },
  {
   "cell_type": "markdown",
   "id": "dc6ed51e",
   "metadata": {},
   "source": [
    "**Calculating Test Statistic and P-Value**"
   ]
  },
  {
   "cell_type": "markdown",
   "id": "8d8d6a59",
   "metadata": {},
   "source": [
    "Here, we perform **One Proportion Z-Test** using proportions_ztest() function from the Statsmodels library, which is based on a normal (z) test, as **it approximates the binomial distribution with a normal distribution**."
   ]
  },
  {
   "cell_type": "code",
   "execution_count": 24,
   "id": "0794ea06",
   "metadata": {},
   "outputs": [
    {
     "data": {
      "text/plain": [
       "(-1.7186001564908264, 0.04284360158519187)"
      ]
     },
     "execution_count": 24,
     "metadata": {},
     "output_type": "execute_result"
    }
   ],
   "source": [
    "# Using 'Score Method' or 'Expected Proportion' (i.e., by using 'value = expected/hypothesized proportion')\n",
    "# In the Score Method, we also set the proportion variance (or prop_var) equal to the hypothesized population proportion.\n",
    "proportions_ztest(count=14, nobs=100, value=0.21, prop_var=0.21, alternative='smaller')\n",
    "# Here, count = n * p where, n is the sample size that equals to 'nobs', and p is the observed/sample proportion"
   ]
  },
  {
   "cell_type": "markdown",
   "id": "169aa653",
   "metadata": {},
   "source": [
    "Here, the calculated test statistic (Z cal) is -1.71 and the left-tailed p-value associated with Z cal = -1.71 is 0.042."
   ]
  },
  {
   "cell_type": "markdown",
   "id": "04cafcfb",
   "metadata": {},
   "source": [
    "**Interpreting Results**"
   ]
  },
  {
   "cell_type": "markdown",
   "id": "4fc4b33a",
   "metadata": {},
   "source": [
    "Here, the p-value is less than α = 0.05, so we reject the null hypothesis. Therefore, we conclude that population proportion of the smokers in the city has significantly decreased."
   ]
  },
  {
   "cell_type": "markdown",
   "id": "0456d2ab",
   "metadata": {},
   "source": [
    "## IV. One-Sample Variance Test"
   ]
  },
  {
   "cell_type": "markdown",
   "id": "e8935c16",
   "metadata": {},
   "source": [
    "**The conditions for one-sample variance test include:** \n",
    "- Samples are randomly selected\n",
    "- Each event/observation is independent of the other\n",
    "- Comparision of a sample variance with the population variance\n",
    "- Sampling distribution approximates normal distribution (or, the data follows a normal distribution)"
   ]
  },
  {
   "cell_type": "markdown",
   "id": "0a479a81",
   "metadata": {},
   "source": [
    "Since there is no built-in variance test in either 'scipy.stats' or 'statsmodels.stats', we need to manually calculate the $\\chi^2$ test statistic using the formula:\n",
    "\n",
    "$$\\chi^2\\ (cal.) = \\frac{(n-1)s^2}{\\sigma_0^2}$$\n",
    "\n",
    "Where:\n",
    "\n",
    "$n$ = Sample size \n",
    "\n",
    "$s^2$ = Sample variance\n",
    "\n",
    "$\\sigma_0^2$ = Population variance (hypothesized)\n",
    "\n",
    "df (Degrees of freedom) = n - 1"
   ]
  },
  {
   "cell_type": "markdown",
   "id": "0bc3b7b6",
   "metadata": {},
   "source": [
    "###  *'Chi-Squared Test' for One-Sample Variance Test (Two-Tailed Test)*"
   ]
  },
  {
   "cell_type": "markdown",
   "id": "98d19b95",
   "metadata": {},
   "source": [
    "**Question:** When a sample of 51 bottles was selected and measured, the standard deviation was found to be 2.35 cc. The population standard deviation was 2 cc. Has the sample variance changed from the population variance? Conduct a hypothesis test at the 90% confidence level."
   ]
  },
  {
   "cell_type": "markdown",
   "id": "21856dc2",
   "metadata": {},
   "source": [
    "**Importing Libraries**"
   ]
  },
  {
   "cell_type": "code",
   "execution_count": 25,
   "id": "a811d1b2",
   "metadata": {},
   "outputs": [],
   "source": [
    "import numpy as np\n",
    "import pandas as pd\n",
    "import matplotlib.pyplot as plt\n",
    "import seaborn as sns\n",
    "import scipy.stats as stats"
   ]
  },
  {
   "cell_type": "markdown",
   "id": "03f9e36f",
   "metadata": {},
   "source": [
    "**Creating Data**"
   ]
  },
  {
   "cell_type": "code",
   "execution_count": 26,
   "id": "9a7ed9cc",
   "metadata": {},
   "outputs": [],
   "source": [
    "x_ax = np.linspace(0, 100, 101)\n",
    "y_ax = stats.chi2.pdf(x_ax, df=50) # For chi-squared test, df = n-1"
   ]
  },
  {
   "cell_type": "markdown",
   "id": "12d108b5",
   "metadata": {},
   "source": [
    "**Visualizing Data**"
   ]
  },
  {
   "cell_type": "code",
   "execution_count": 27,
   "id": "96f4b488",
   "metadata": {},
   "outputs": [
    {
     "data": {
      "image/png": "[encoded data removed]",
      "text/plain": [
       "<Figure size 500x500 with 1 Axes>"
      ]
     },
     "metadata": {},
     "output_type": "display_data"
    }
   ],
   "source": [
    "# Plotting chi-squared distribution with 50 df\n",
    "sns.relplot(x=x_ax, y=y_ax, kind='line');"
   ]
  },
  {
   "cell_type": "markdown",
   "id": "9fcda2ad",
   "metadata": {},
   "source": [
    "**Stating Hypothesis**"
   ]
  },
  {
   "cell_type": "markdown",
   "id": "515a2030",
   "metadata": {},
   "source": [
    "Null hypothesis H0: $\\sigma^2$ = $\\sigma_0^2$ or $\\sigma^2$ = 4 (The population variance is equal to the hypothesized value of 4, indicating no change)\n",
    "\n",
    "Alternative hypothesis H1: $\\sigma^2$ $\\neq$ $\\sigma_0^2$ or $\\sigma^2$ $\\neq$ 4 (The population variance is different from the hypothesized value of 4, suggesting a change has occurred)\n",
    "\n",
    "Here, $\\sigma^2$ refers to the true but unknown population variance we are testing."
   ]
  },
  {
   "cell_type": "markdown",
   "id": "db48114a",
   "metadata": {},
   "source": [
    "**Selecting the Level of Significance or α Level or the Probability of Error**"
   ]
  },
  {
   "cell_type": "markdown",
   "id": "812fcdf7",
   "metadata": {},
   "source": [
    "Given that the confidence level (1 - α) is 90%, the significance level (α) is 10% (or 0.10). Therefore, for a two-tailed test, the significance level for each tail is α/2 = 0.05."
   ]
  },
  {
   "cell_type": "markdown",
   "id": "3f01353f",
   "metadata": {},
   "source": [
    "**Calculating $\\chi^2$ Test Statistic**"
   ]
  },
  {
   "cell_type": "code",
   "execution_count": 28,
   "id": "e640eb9d",
   "metadata": {},
   "outputs": [],
   "source": [
    "chi_sq_cal = (51-1) * (2.35**2) / (2**2) # Here, chi-square test statistic is calculated by using python just like a calculator"
   ]
  },
  {
   "cell_type": "code",
   "execution_count": 29,
   "id": "a7a62473",
   "metadata": {},
   "outputs": [
    {
     "data": {
      "text/plain": [
       "69.03125000000001"
      ]
     },
     "execution_count": 29,
     "metadata": {},
     "output_type": "execute_result"
    }
   ],
   "source": [
    "chi_sq_cal"
   ]
  },
  {
   "cell_type": "markdown",
   "id": "9457ea75",
   "metadata": {},
   "source": [
    "**Calculating $\\chi^2$ Critical Value**"
   ]
  },
  {
   "cell_type": "markdown",
   "id": "2ec674ce",
   "metadata": {},
   "source": [
    "Since the given $\\chi^2$ distribution involves a two-tailed test, there are two critical values. Unlike the normal distribution, the chi-squared distribution is not symmetric around zero, so we need to calculate the critical values separately for the right-tailed and left-tailed probabilities."
   ]
  },
  {
   "cell_type": "code",
   "execution_count": 30,
   "id": "ffe94437",
   "metadata": {},
   "outputs": [],
   "source": [
    "# Calculating the Chi-squared critical value on the right for which the right-tail probability is 0.05.\n",
    "chi_sq_crit_right = stats.chi2.isf(q=0.05, df=50) \n",
    "# Here, q = α/2 for the right-tailed test"
   ]
  },
  {
   "cell_type": "code",
   "execution_count": 31,
   "id": "2ec202dd",
   "metadata": {},
   "outputs": [
    {
     "data": {
      "text/plain": [
       "67.5048065495412"
      ]
     },
     "execution_count": 31,
     "metadata": {},
     "output_type": "execute_result"
    }
   ],
   "source": [
    "chi_sq_crit_right"
   ]
  },
  {
   "cell_type": "code",
   "execution_count": 32,
   "id": "8cf52fce",
   "metadata": {},
   "outputs": [],
   "source": [
    "# Calculating the Chi-squared critical value on the left for which the right-tail probability is 0.95\n",
    "chi_sq_crit_left = stats.chi2.isf(q=0.95, df=50) \n",
    "# Here, q = 1 - α/2, since we use the 95% area to the right of the curve instead of the 5% area on the left."
   ]
  },
  {
   "cell_type": "code",
   "execution_count": 33,
   "id": "02c0fe79",
   "metadata": {},
   "outputs": [
    {
     "data": {
      "text/plain": [
       "34.76425168350175"
      ]
     },
     "execution_count": 33,
     "metadata": {},
     "output_type": "execute_result"
    }
   ],
   "source": [
    "chi_sq_crit_left"
   ]
  },
  {
   "cell_type": "markdown",
   "id": "18f50cef",
   "metadata": {},
   "source": [
    "**Interpreting Results**"
   ]
  },
  {
   "cell_type": "markdown",
   "id": "de7755ec",
   "metadata": {},
   "source": [
    "Here, the calculated chi-squared value of 69.03 falls in the rejection region—that is, it lies outside the range between the lower critical value (34.76) and the upper critical value (67.50) of the chi-squared distribution. Therefore, we reject the null hypothesis at the $\\alpha$ = 0.10 level and conclude that the sample variance has significantly changed from the population variance."
   ]
  },
  {
   "cell_type": "markdown",
   "id": "314fe2ae",
   "metadata": {},
   "source": [
    "###  *'Chi-Squared Test' for One-Sample Variance Test (Right-Tailed Test)*"
   ]
  },
  {
   "cell_type": "markdown",
   "id": "abf582fa",
   "metadata": {},
   "source": [
    "**Question:** When a sample of 51 bottles was selected and measured, the standard deviation was found to be 2.35 cc. The population standard deviation was 2 cc. Has the sample variance increased from the population variance? Conduct a hypothesis test at the 90% confidence level."
   ]
  },
  {
   "cell_type": "markdown",
   "id": "b833e522",
   "metadata": {},
   "source": [
    "**Stating Hypothesis**"
   ]
  },
  {
   "cell_type": "markdown",
   "id": "82aa06d8",
   "metadata": {},
   "source": [
    "Null hypothesis H0: $\\sigma^2$ $\\leq$ $\\sigma_0^2$ or $\\sigma^2$ $\\leq$ 4 (The population variance is less than or equal to the hypothesized value of 4, suggesting no increase)\n",
    "\n",
    "Alternative hypothesis H1: $\\sigma^2$ $\\gt$ $\\sigma_0^2$ or $\\sigma^2$ $\\gt$ 4 (The population variance has increased from 4, indicating an increase)\n",
    "\n",
    "Here, $\\sigma^2$ refers to the true but unknown population variance we are testing."
   ]
  },
  {
   "cell_type": "markdown",
   "id": "1d1c1ba4",
   "metadata": {},
   "source": [
    "**Selecting the Level of Significance or α Level or the Probability of Error**"
   ]
  },
  {
   "cell_type": "markdown",
   "id": "6b2140d7",
   "metadata": {},
   "source": [
    "Given that the confidence level (1 - α) is 90%, the level of significance (α) for the one-tailed test is 10% or 0.1. "
   ]
  },
  {
   "cell_type": "markdown",
   "id": "bc4fde84",
   "metadata": {},
   "source": [
    "**Calculating $\\chi^2$ Test Statistic**"
   ]
  },
  {
   "cell_type": "code",
   "execution_count": 34,
   "id": "6e6cb6fe",
   "metadata": {},
   "outputs": [],
   "source": [
    "chi_sq_cal = (51-1) * (2.35**2) / (2**2) # Here, chi-square test statistic is calculated by using python just like a calculator"
   ]
  },
  {
   "cell_type": "code",
   "execution_count": 35,
   "id": "85e8b459",
   "metadata": {},
   "outputs": [
    {
     "data": {
      "text/plain": [
       "69.03125000000001"
      ]
     },
     "execution_count": 35,
     "metadata": {},
     "output_type": "execute_result"
    }
   ],
   "source": [
    "chi_sq_cal"
   ]
  },
  {
   "cell_type": "markdown",
   "id": "dc247a1f",
   "metadata": {},
   "source": [
    "**Calculating $\\chi^2$ Critical Value**"
   ]
  },
  {
   "cell_type": "code",
   "execution_count": 36,
   "id": "00d3ec41",
   "metadata": {},
   "outputs": [],
   "source": [
    "# Calculating the Chi-squared critical value on the right for which the right-tail probability is 0.10.\n",
    "chi_sq_crit_right = stats.chi2.isf(q=0.10, df=50)"
   ]
  },
  {
   "cell_type": "code",
   "execution_count": 37,
   "id": "89f1f496",
   "metadata": {},
   "outputs": [
    {
     "data": {
      "text/plain": [
       "63.167121005726315"
      ]
     },
     "execution_count": 37,
     "metadata": {},
     "output_type": "execute_result"
    }
   ],
   "source": [
    "chi_sq_crit_right"
   ]
  },
  {
   "cell_type": "markdown",
   "id": "26cf0084",
   "metadata": {},
   "source": [
    "**Interpreting Results**"
   ]
  },
  {
   "cell_type": "markdown",
   "id": "a33c7369",
   "metadata": {},
   "source": [
    "Since the calculated chi-squared value of 69.03 is greater than the critical value of 63.16, it falls in the rejection region. Therefore, we reject the null hypothesis and conclude that the sample variance has significantly increased compared to the population variance."
   ]
  },
  {
   "cell_type": "code",
   "execution_count": null,
   "id": "06e9f86f",
   "metadata": {},
   "outputs": [],
   "source": []
  }
 ],
 "metadata": {
  "kernelspec": {
   "display_name": "Python 3 (ipykernel)",
   "language": "python",
   "name": "python3"
  },
  "language_info": {
   "codemirror_mode": {
    "name": "ipython",
    "version": 3
   },
   "file_extension": ".py",
   "mimetype": "text/x-python",
   "name": "python",
   "nbconvert_exporter": "python",
   "pygments_lexer": "ipython3",
   "version": "3.10.16"
  }
 },
 "nbformat": 4,
 "nbformat_minor": 5
}
