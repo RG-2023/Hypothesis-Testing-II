{
 "cells": [
  {
   "cell_type": "markdown",
   "id": "349a6f07",
   "metadata": {},
   "source": [
    "# One-Way or One-Factor ANOVA"
   ]
  },
  {
   "cell_type": "markdown",
   "id": "90ab93b2",
   "metadata": {},
   "source": [
    "One-way ANOVA is a statistical test used to compare the means of three or more groups with one independent variable.\n",
    "\n",
    "**Conditions for Using ANOVA include:**\n",
    "\n",
    "- There should be one or more independent variables with three or more groups/levels\n",
    "- Samples are randomly selected\n",
    "- Each sample or group must be independent from the others\n",
    "- Data in each group should be approximately normally distributed\n",
    "- Dependent variable should be continuous, allowing for means to be calculated within each group\n",
    "- The groups should have equal variances"
   ]
  },
  {
   "cell_type": "markdown",
   "id": "75e2d23a",
   "metadata": {},
   "source": [
    "**A. The formula to calculate F-statistic for ANOVA is:**\n",
    "\n",
    "$$ F(cal.) = \\frac{\\ MSS_B}{\\ MSS_W} = \\frac{\\ Between \\ sample \\ variance}{\\ Within \\ sample \\ variance}$$\n",
    "\n",
    "Where: \n",
    "\n",
    "$\\ MSS_B$ = Mean sum of squares between samples\n",
    "\n",
    "$\\ MSS_W$ = Mean sum of squaares within samples\n",
    "\n",
    "<br>\n",
    "\n",
    "**B. The formula to calculate mean sum of squares between samples is:**\n",
    "\n",
    "\n",
    "$$\\ MSS_B = \\frac{\\ SS_B}{(k-1)} = \\frac{\\ SS_B}{df_B}$$ \n",
    "\n",
    "Where: \n",
    "\n",
    "$SS_B$ = Sum of squares between samples\n",
    "\n",
    "k = Number of populations or groups\n",
    "\n",
    "$df_B$ = Degrees of freedom between samples = Numerator degrees of freedom\n",
    "\n",
    "<br>\n",
    "\n",
    "**C. The formula to calculate mean sum of squares within samples is:**\n",
    "\n",
    "$$\\ MSS_W = \\frac{\\ SS_W}{(n-k)} = \\frac{\\ SS_W}{df_W}$$\n",
    "\n",
    "Where: \n",
    "\n",
    "$SS_W$ = Sum of squares within samples\n",
    "\n",
    "n = Total number of observations in all the populations or groups\n",
    "\n",
    "k = Number of populations or groups\n",
    "\n",
    "$df_W$ = Degrees of freedom within samples = Denominator degrees of freedom\n",
    "\n"
   ]
  },
  {
   "cell_type": "markdown",
   "id": "d150b6ff",
   "metadata": {},
   "source": [
    "### *Question 1*"
   ]
  },
  {
   "cell_type": "markdown",
   "id": "9579f996",
   "metadata": {},
   "source": [
    "**Question 1:** Perform a one-way ANOVA test at the 95% confidence level to determine whether the volume of bottles produced by the three machines differs significantly. The data showing bottle volumes produced by Machine 1 (m1), Machine 2 (m2), and Machine 3 (m3) are given as:\n",
    "\n",
    "m1 = [150, 151, 152, 152, 151, 150]\n",
    "\n",
    "m2 = [153, 152, 148, 151, 149, 152]\n",
    "\n",
    "m3 = [156, 154, 155, 156, 157, 155]"
   ]
  },
  {
   "cell_type": "markdown",
   "id": "8376405b",
   "metadata": {},
   "source": [
    "**Importing Libraries**"
   ]
  },
  {
   "cell_type": "code",
   "execution_count": 1,
   "id": "a08d3f43",
   "metadata": {},
   "outputs": [],
   "source": [
    "import numpy as np\n",
    "import pandas as pd\n",
    "import matplotlib.pyplot as plt\n",
    "import seaborn as sns\n",
    "import scipy.stats as stats\n",
    "import statsmodels.stats.oneway as oneway "
   ]
  },
  {
   "cell_type": "markdown",
   "id": "71ad284a",
   "metadata": {},
   "source": [
    "**Creating Data**"
   ]
  },
  {
   "cell_type": "code",
   "execution_count": 2,
   "id": "fd5f0e08",
   "metadata": {},
   "outputs": [],
   "source": [
    "# Using the same data, presented as lists, as provided in the question above\n",
    "m1 = [150, 151, 152, 152, 151, 150]\n",
    "m2 = [153, 152, 148, 151, 149, 152]\n",
    "m3 = [156, 154, 155, 156, 157, 155]"
   ]
  },
  {
   "cell_type": "markdown",
   "id": "94a2c003",
   "metadata": {},
   "source": [
    "**Visualizing Data**"
   ]
  },
  {
   "cell_type": "code",
   "execution_count": 3,
   "id": "ac0e645c",
   "metadata": {},
   "outputs": [
    {
     "data": {
      "text/plain": [
       "<seaborn.axisgrid.FacetGrid at 0x13a13bfed40>"
      ]
     },
     "execution_count": 3,
     "metadata": {},
     "output_type": "execute_result"
    },
    {
     "data": {
      "image/png": "[encoded data removed]",
      "text/plain": [
       "<Figure size 500x500 with 1 Axes>"
      ]
     },
     "metadata": {},
     "output_type": "display_data"
    }
   ],
   "source": [
    "# creating box-and-whisker plots showing the volumes of bottles produced by each machine\n",
    "sns.catplot(data=(m1, m2, m3), kind='box')"
   ]
  },
  {
   "cell_type": "markdown",
   "id": "296a09e5",
   "metadata": {},
   "source": [
    "**Stating Hypothesis**"
   ]
  },
  {
   "cell_type": "markdown",
   "id": "4bba6e46",
   "metadata": {},
   "source": [
    "Null hypothesis H0: $\\mu_1$ = $\\mu_2$ = $\\mu_3$ (The mean volume of bottles produced by Machine 1, Machine 2, and Machine 3 are all equal)\n",
    "\n",
    "Alternative hypothesis H1: At least one machine produces bottles with a different mean volume"
   ]
  },
  {
   "cell_type": "markdown",
   "id": "258b939e",
   "metadata": {},
   "source": [
    "**Selecting the Level of Significance or α Level**"
   ]
  },
  {
   "cell_type": "markdown",
   "id": "72f3007b",
   "metadata": {},
   "source": [
    "*ANOVA is inherently a one-tailed test*. If we choose a confidence level of 95% (i.e., 1 - α), the corresponding significance level is 5% (α = 0.05). "
   ]
  },
  {
   "cell_type": "markdown",
   "id": "cbc4b2b9",
   "metadata": {},
   "source": [
    "**Calculating Test Statistic and P-Value**"
   ]
  },
  {
   "cell_type": "code",
   "execution_count": 4,
   "id": "8a78447c",
   "metadata": {},
   "outputs": [
    {
     "data": {
      "text/plain": [
       "F_onewayResult(statistic=22.264705882352935, pvalue=3.2374085509077445e-05)"
      ]
     },
     "execution_count": 4,
     "metadata": {},
     "output_type": "execute_result"
    }
   ],
   "source": [
    "# Using Scipy.stats library\n",
    "stats.f_oneway(m1, m2, m3)"
   ]
  },
  {
   "cell_type": "code",
   "execution_count": 5,
   "id": "55fdf8db",
   "metadata": {},
   "outputs": [
    {
     "data": {
      "text/plain": [
       "<class 'statsmodels.stats.base.HolderTuple'>\n",
       "statistic = 22.264705882352896\n",
       "pvalue = 3.237408550907777e-05\n",
       "df = (2.0, 15.0)\n",
       "df_num = 2.0\n",
       "df_denom = 15.0\n",
       "nobs_t = 18.0\n",
       "n_groups = 3\n",
       "means = array([151.        , 150.83333333, 155.5       ])\n",
       "nobs = array([6., 6., 6.])\n",
       "vars_ = array([0.8       , 3.76666667, 1.1       ])\n",
       "use_var = 'equal'\n",
       "welch_correction = True\n",
       "tuple = (22.264705882352896, 3.237408550907777e-05)"
      ]
     },
     "execution_count": 5,
     "metadata": {},
     "output_type": "execute_result"
    }
   ],
   "source": [
    "# Using Statsmodels library\n",
    "oneway.anova_oneway(data=(m1, m2, m3), use_var='equal')\n",
    "# Since the ANOVA test assumes equal variances, we specify 'use_var = equal'"
   ]
  },
  {
   "cell_type": "markdown",
   "id": "ea17f37a",
   "metadata": {},
   "source": [
    "**Interpreting Results**"
   ]
  },
  {
   "cell_type": "markdown",
   "id": "382b6887",
   "metadata": {},
   "source": [
    "Since the p-value is less than α (0.05), we reject the null hypothesis. Therefore, we conclude that at least one machine produces bottles with a mean volume that is significantly different from the others."
   ]
  },
  {
   "cell_type": "markdown",
   "id": "b7580f18",
   "metadata": {},
   "source": [
    "### *Question 2*"
   ]
  },
  {
   "cell_type": "markdown",
   "id": "f8e5dce5",
   "metadata": {},
   "source": [
    "**Question 2:** Using the built-in MPG dataset from the Seaborn library, perform a one-way ANOVA test at the 95% confidence level to determine whether the mpg (miles per gallon) of four-cylinder cars produced in the USA, Japan, and Europe differs significantly."
   ]
  },
  {
   "cell_type": "markdown",
   "id": "fe34305c",
   "metadata": {},
   "source": [
    "**Loading Data**"
   ]
  },
  {
   "cell_type": "code",
   "execution_count": 6,
   "id": "d8b3a4cc",
   "metadata": {},
   "outputs": [
    {
     "data": {
      "text/plain": [
       "['anagrams',\n",
       " 'anscombe',\n",
       " 'attention',\n",
       " 'brain_networks',\n",
       " 'car_crashes',\n",
       " 'diamonds',\n",
       " 'dots',\n",
       " 'dowjones',\n",
       " 'exercise',\n",
       " 'flights',\n",
       " 'fmri',\n",
       " 'geyser',\n",
       " 'glue',\n",
       " 'healthexp',\n",
       " 'iris',\n",
       " 'mpg',\n",
       " 'penguins',\n",
       " 'planets',\n",
       " 'seaice',\n",
       " 'taxis',\n",
       " 'tips',\n",
       " 'titanic']"
      ]
     },
     "execution_count": 6,
     "metadata": {},
     "output_type": "execute_result"
    }
   ],
   "source": [
    "# Checking the MPG Dataset in the Seaborn library\n",
    "sns.get_dataset_names()"
   ]
  },
  {
   "cell_type": "code",
   "execution_count": 7,
   "id": "a4de0506",
   "metadata": {},
   "outputs": [
    {
     "data": {
      "text/html": [
       "<div>\n",
       "<style scoped>\n",
       "    .dataframe tbody tr th:only-of-type {\n",
       "        vertical-align: middle;\n",
       "    }\n",
       "\n",
       "    .dataframe tbody tr th {\n",
       "        vertical-align: top;\n",
       "    }\n",
       "\n",
       "    .dataframe thead th {\n",
       "        text-align: right;\n",
       "    }\n",
       "</style>\n",
       "<table border=\"1\" class=\"dataframe\">\n",
       "  <thead>\n",
       "    <tr style=\"text-align: right;\">\n",
       "      <th></th>\n",
       "      <th>mpg</th>\n",
       "      <th>cylinders</th>\n",
       "      <th>displacement</th>\n",
       "      <th>horsepower</th>\n",
       "      <th>weight</th>\n",
       "      <th>acceleration</th>\n",
       "      <th>model_year</th>\n",
       "      <th>origin</th>\n",
       "      <th>name</th>\n",
       "    </tr>\n",
       "  </thead>\n",
       "  <tbody>\n",
       "    <tr>\n",
       "      <th>0</th>\n",
       "      <td>18.0</td>\n",
       "      <td>8</td>\n",
       "      <td>307.0</td>\n",
       "      <td>130.0</td>\n",
       "      <td>3504</td>\n",
       "      <td>12.0</td>\n",
       "      <td>70</td>\n",
       "      <td>usa</td>\n",
       "      <td>chevrolet chevelle malibu</td>\n",
       "    </tr>\n",
       "    <tr>\n",
       "      <th>1</th>\n",
       "      <td>15.0</td>\n",
       "      <td>8</td>\n",
       "      <td>350.0</td>\n",
       "      <td>165.0</td>\n",
       "      <td>3693</td>\n",
       "      <td>11.5</td>\n",
       "      <td>70</td>\n",
       "      <td>usa</td>\n",
       "      <td>buick skylark 320</td>\n",
       "    </tr>\n",
       "    <tr>\n",
       "      <th>2</th>\n",
       "      <td>18.0</td>\n",
       "      <td>8</td>\n",
       "      <td>318.0</td>\n",
       "      <td>150.0</td>\n",
       "      <td>3436</td>\n",
       "      <td>11.0</td>\n",
       "      <td>70</td>\n",
       "      <td>usa</td>\n",
       "      <td>plymouth satellite</td>\n",
       "    </tr>\n",
       "    <tr>\n",
       "      <th>3</th>\n",
       "      <td>16.0</td>\n",
       "      <td>8</td>\n",
       "      <td>304.0</td>\n",
       "      <td>150.0</td>\n",
       "      <td>3433</td>\n",
       "      <td>12.0</td>\n",
       "      <td>70</td>\n",
       "      <td>usa</td>\n",
       "      <td>amc rebel sst</td>\n",
       "    </tr>\n",
       "    <tr>\n",
       "      <th>4</th>\n",
       "      <td>17.0</td>\n",
       "      <td>8</td>\n",
       "      <td>302.0</td>\n",
       "      <td>140.0</td>\n",
       "      <td>3449</td>\n",
       "      <td>10.5</td>\n",
       "      <td>70</td>\n",
       "      <td>usa</td>\n",
       "      <td>ford torino</td>\n",
       "    </tr>\n",
       "  </tbody>\n",
       "</table>\n",
       "</div>"
      ],
      "text/plain": [
       "    mpg  cylinders  displacement  horsepower  weight  acceleration  \\\n",
       "0  18.0          8         307.0       130.0    3504          12.0   \n",
       "1  15.0          8         350.0       165.0    3693          11.5   \n",
       "2  18.0          8         318.0       150.0    3436          11.0   \n",
       "3  16.0          8         304.0       150.0    3433          12.0   \n",
       "4  17.0          8         302.0       140.0    3449          10.5   \n",
       "\n",
       "   model_year origin                       name  \n",
       "0          70    usa  chevrolet chevelle malibu  \n",
       "1          70    usa          buick skylark 320  \n",
       "2          70    usa         plymouth satellite  \n",
       "3          70    usa              amc rebel sst  \n",
       "4          70    usa                ford torino  "
      ]
     },
     "execution_count": 7,
     "metadata": {},
     "output_type": "execute_result"
    }
   ],
   "source": [
    "# Loading the MPG Dataset, a built-in data in the Seaborn library\n",
    "mpg = sns.load_dataset('mpg')\n",
    "mpg.head()"
   ]
  },
  {
   "cell_type": "code",
   "execution_count": 8,
   "id": "dc172853",
   "metadata": {},
   "outputs": [
    {
     "name": "stdout",
     "output_type": "stream",
     "text": [
      "<class 'pandas.core.frame.DataFrame'>\n",
      "RangeIndex: 398 entries, 0 to 397\n",
      "Data columns (total 9 columns):\n",
      " #   Column        Non-Null Count  Dtype  \n",
      "---  ------        --------------  -----  \n",
      " 0   mpg           398 non-null    float64\n",
      " 1   cylinders     398 non-null    int64  \n",
      " 2   displacement  398 non-null    float64\n",
      " 3   horsepower    392 non-null    float64\n",
      " 4   weight        398 non-null    int64  \n",
      " 5   acceleration  398 non-null    float64\n",
      " 6   model_year    398 non-null    int64  \n",
      " 7   origin        398 non-null    object \n",
      " 8   name          398 non-null    object \n",
      "dtypes: float64(4), int64(3), object(2)\n",
      "memory usage: 28.1+ KB\n"
     ]
    }
   ],
   "source": [
    "# Checking info() method\n",
    "mpg.info()"
   ]
  },
  {
   "cell_type": "code",
   "execution_count": 9,
   "id": "e1643b72",
   "metadata": {},
   "outputs": [
    {
     "data": {
      "text/html": [
       "<div>\n",
       "<style scoped>\n",
       "    .dataframe tbody tr th:only-of-type {\n",
       "        vertical-align: middle;\n",
       "    }\n",
       "\n",
       "    .dataframe tbody tr th {\n",
       "        vertical-align: top;\n",
       "    }\n",
       "\n",
       "    .dataframe thead th {\n",
       "        text-align: right;\n",
       "    }\n",
       "</style>\n",
       "<table border=\"1\" class=\"dataframe\">\n",
       "  <thead>\n",
       "    <tr style=\"text-align: right;\">\n",
       "      <th></th>\n",
       "      <th>mpg</th>\n",
       "      <th>cylinders</th>\n",
       "      <th>displacement</th>\n",
       "      <th>horsepower</th>\n",
       "      <th>weight</th>\n",
       "      <th>acceleration</th>\n",
       "      <th>model_year</th>\n",
       "    </tr>\n",
       "  </thead>\n",
       "  <tbody>\n",
       "    <tr>\n",
       "      <th>count</th>\n",
       "      <td>398.000000</td>\n",
       "      <td>398.000000</td>\n",
       "      <td>398.000000</td>\n",
       "      <td>392.000000</td>\n",
       "      <td>398.000000</td>\n",
       "      <td>398.000000</td>\n",
       "      <td>398.000000</td>\n",
       "    </tr>\n",
       "    <tr>\n",
       "      <th>mean</th>\n",
       "      <td>23.514573</td>\n",
       "      <td>5.454774</td>\n",
       "      <td>193.425879</td>\n",
       "      <td>104.469388</td>\n",
       "      <td>2970.424623</td>\n",
       "      <td>15.568090</td>\n",
       "      <td>76.010050</td>\n",
       "    </tr>\n",
       "    <tr>\n",
       "      <th>std</th>\n",
       "      <td>7.815984</td>\n",
       "      <td>1.701004</td>\n",
       "      <td>104.269838</td>\n",
       "      <td>38.491160</td>\n",
       "      <td>846.841774</td>\n",
       "      <td>2.757689</td>\n",
       "      <td>3.697627</td>\n",
       "    </tr>\n",
       "    <tr>\n",
       "      <th>min</th>\n",
       "      <td>9.000000</td>\n",
       "      <td>3.000000</td>\n",
       "      <td>68.000000</td>\n",
       "      <td>46.000000</td>\n",
       "      <td>1613.000000</td>\n",
       "      <td>8.000000</td>\n",
       "      <td>70.000000</td>\n",
       "    </tr>\n",
       "    <tr>\n",
       "      <th>25%</th>\n",
       "      <td>17.500000</td>\n",
       "      <td>4.000000</td>\n",
       "      <td>104.250000</td>\n",
       "      <td>75.000000</td>\n",
       "      <td>2223.750000</td>\n",
       "      <td>13.825000</td>\n",
       "      <td>73.000000</td>\n",
       "    </tr>\n",
       "    <tr>\n",
       "      <th>50%</th>\n",
       "      <td>23.000000</td>\n",
       "      <td>4.000000</td>\n",
       "      <td>148.500000</td>\n",
       "      <td>93.500000</td>\n",
       "      <td>2803.500000</td>\n",
       "      <td>15.500000</td>\n",
       "      <td>76.000000</td>\n",
       "    </tr>\n",
       "    <tr>\n",
       "      <th>75%</th>\n",
       "      <td>29.000000</td>\n",
       "      <td>8.000000</td>\n",
       "      <td>262.000000</td>\n",
       "      <td>126.000000</td>\n",
       "      <td>3608.000000</td>\n",
       "      <td>17.175000</td>\n",
       "      <td>79.000000</td>\n",
       "    </tr>\n",
       "    <tr>\n",
       "      <th>max</th>\n",
       "      <td>46.600000</td>\n",
       "      <td>8.000000</td>\n",
       "      <td>455.000000</td>\n",
       "      <td>230.000000</td>\n",
       "      <td>5140.000000</td>\n",
       "      <td>24.800000</td>\n",
       "      <td>82.000000</td>\n",
       "    </tr>\n",
       "  </tbody>\n",
       "</table>\n",
       "</div>"
      ],
      "text/plain": [
       "              mpg   cylinders  displacement  horsepower       weight  \\\n",
       "count  398.000000  398.000000    398.000000  392.000000   398.000000   \n",
       "mean    23.514573    5.454774    193.425879  104.469388  2970.424623   \n",
       "std      7.815984    1.701004    104.269838   38.491160   846.841774   \n",
       "min      9.000000    3.000000     68.000000   46.000000  1613.000000   \n",
       "25%     17.500000    4.000000    104.250000   75.000000  2223.750000   \n",
       "50%     23.000000    4.000000    148.500000   93.500000  2803.500000   \n",
       "75%     29.000000    8.000000    262.000000  126.000000  3608.000000   \n",
       "max     46.600000    8.000000    455.000000  230.000000  5140.000000   \n",
       "\n",
       "       acceleration  model_year  \n",
       "count    398.000000  398.000000  \n",
       "mean      15.568090   76.010050  \n",
       "std        2.757689    3.697627  \n",
       "min        8.000000   70.000000  \n",
       "25%       13.825000   73.000000  \n",
       "50%       15.500000   76.000000  \n",
       "75%       17.175000   79.000000  \n",
       "max       24.800000   82.000000  "
      ]
     },
     "execution_count": 9,
     "metadata": {},
     "output_type": "execute_result"
    }
   ],
   "source": [
    "# Checking describe() method to see statistical summary of the numerical columns of the dataset\n",
    "mpg.describe()"
   ]
  },
  {
   "cell_type": "code",
   "execution_count": 10,
   "id": "fae37c88",
   "metadata": {},
   "outputs": [
    {
     "data": {
      "text/html": [
       "<div>\n",
       "<style scoped>\n",
       "    .dataframe tbody tr th:only-of-type {\n",
       "        vertical-align: middle;\n",
       "    }\n",
       "\n",
       "    .dataframe tbody tr th {\n",
       "        vertical-align: top;\n",
       "    }\n",
       "\n",
       "    .dataframe thead th {\n",
       "        text-align: right;\n",
       "    }\n",
       "</style>\n",
       "<table border=\"1\" class=\"dataframe\">\n",
       "  <thead>\n",
       "    <tr style=\"text-align: right;\">\n",
       "      <th></th>\n",
       "      <th></th>\n",
       "      <th>mpg</th>\n",
       "      <th>displacement</th>\n",
       "      <th>horsepower</th>\n",
       "      <th>weight</th>\n",
       "      <th>acceleration</th>\n",
       "      <th>model_year</th>\n",
       "    </tr>\n",
       "    <tr>\n",
       "      <th>origin</th>\n",
       "      <th>cylinders</th>\n",
       "      <th></th>\n",
       "      <th></th>\n",
       "      <th></th>\n",
       "      <th></th>\n",
       "      <th></th>\n",
       "      <th></th>\n",
       "    </tr>\n",
       "  </thead>\n",
       "  <tbody>\n",
       "    <tr>\n",
       "      <th rowspan=\"3\" valign=\"top\">europe</th>\n",
       "      <th>4</th>\n",
       "      <td>28.411111</td>\n",
       "      <td>104.222222</td>\n",
       "      <td>78.311475</td>\n",
       "      <td>2330.015873</td>\n",
       "      <td>16.722222</td>\n",
       "      <td>75.507937</td>\n",
       "    </tr>\n",
       "    <tr>\n",
       "      <th>5</th>\n",
       "      <td>27.366667</td>\n",
       "      <td>145.000000</td>\n",
       "      <td>82.333333</td>\n",
       "      <td>3103.333333</td>\n",
       "      <td>18.633333</td>\n",
       "      <td>79.000000</td>\n",
       "    </tr>\n",
       "    <tr>\n",
       "      <th>6</th>\n",
       "      <td>20.100000</td>\n",
       "      <td>159.750000</td>\n",
       "      <td>113.500000</td>\n",
       "      <td>3382.500000</td>\n",
       "      <td>16.425000</td>\n",
       "      <td>78.250000</td>\n",
       "    </tr>\n",
       "    <tr>\n",
       "      <th rowspan=\"3\" valign=\"top\">japan</th>\n",
       "      <th>3</th>\n",
       "      <td>20.550000</td>\n",
       "      <td>72.500000</td>\n",
       "      <td>99.250000</td>\n",
       "      <td>2398.500000</td>\n",
       "      <td>13.250000</td>\n",
       "      <td>75.500000</td>\n",
       "    </tr>\n",
       "    <tr>\n",
       "      <th>4</th>\n",
       "      <td>31.595652</td>\n",
       "      <td>99.768116</td>\n",
       "      <td>75.579710</td>\n",
       "      <td>2153.492754</td>\n",
       "      <td>16.569565</td>\n",
       "      <td>77.507246</td>\n",
       "    </tr>\n",
       "    <tr>\n",
       "      <th>6</th>\n",
       "      <td>23.883333</td>\n",
       "      <td>156.666667</td>\n",
       "      <td>115.833333</td>\n",
       "      <td>2882.000000</td>\n",
       "      <td>13.550000</td>\n",
       "      <td>78.000000</td>\n",
       "    </tr>\n",
       "    <tr>\n",
       "      <th rowspan=\"3\" valign=\"top\">usa</th>\n",
       "      <th>4</th>\n",
       "      <td>27.840278</td>\n",
       "      <td>124.284722</td>\n",
       "      <td>80.956522</td>\n",
       "      <td>2437.166667</td>\n",
       "      <td>16.526389</td>\n",
       "      <td>78.027778</td>\n",
       "    </tr>\n",
       "    <tr>\n",
       "      <th>6</th>\n",
       "      <td>19.663514</td>\n",
       "      <td>226.283784</td>\n",
       "      <td>99.671233</td>\n",
       "      <td>3213.905405</td>\n",
       "      <td>16.474324</td>\n",
       "      <td>75.635135</td>\n",
       "    </tr>\n",
       "    <tr>\n",
       "      <th>8</th>\n",
       "      <td>14.963107</td>\n",
       "      <td>345.009709</td>\n",
       "      <td>158.300971</td>\n",
       "      <td>4114.718447</td>\n",
       "      <td>12.955340</td>\n",
       "      <td>73.902913</td>\n",
       "    </tr>\n",
       "  </tbody>\n",
       "</table>\n",
       "</div>"
      ],
      "text/plain": [
       "                        mpg  displacement  horsepower       weight  \\\n",
       "origin cylinders                                                     \n",
       "europe 4          28.411111    104.222222   78.311475  2330.015873   \n",
       "       5          27.366667    145.000000   82.333333  3103.333333   \n",
       "       6          20.100000    159.750000  113.500000  3382.500000   \n",
       "japan  3          20.550000     72.500000   99.250000  2398.500000   \n",
       "       4          31.595652     99.768116   75.579710  2153.492754   \n",
       "       6          23.883333    156.666667  115.833333  2882.000000   \n",
       "usa    4          27.840278    124.284722   80.956522  2437.166667   \n",
       "       6          19.663514    226.283784   99.671233  3213.905405   \n",
       "       8          14.963107    345.009709  158.300971  4114.718447   \n",
       "\n",
       "                  acceleration  model_year  \n",
       "origin cylinders                            \n",
       "europe 4             16.722222   75.507937  \n",
       "       5             18.633333   79.000000  \n",
       "       6             16.425000   78.250000  \n",
       "japan  3             13.250000   75.500000  \n",
       "       4             16.569565   77.507246  \n",
       "       6             13.550000   78.000000  \n",
       "usa    4             16.526389   78.027778  \n",
       "       6             16.474324   75.635135  \n",
       "       8             12.955340   73.902913  "
      ]
     },
     "execution_count": 10,
     "metadata": {},
     "output_type": "execute_result"
    }
   ],
   "source": [
    "# Using the 'groupby' method to group together the rows based off of the 'origin' and 'cylinders' columns and performing aggregate function such as mean()\n",
    "mpg.groupby(['origin', 'cylinders']).mean(numeric_only=True)"
   ]
  },
  {
   "cell_type": "markdown",
   "id": "5246b082",
   "metadata": {},
   "source": [
    "**Visualizing Data** "
   ]
  },
  {
   "cell_type": "code",
   "execution_count": 11,
   "id": "35cf2bf4",
   "metadata": {},
   "outputs": [
    {
     "data": {
      "text/plain": [
       "14     24.0\n",
       "18     27.0\n",
       "19     26.0\n",
       "20     25.0\n",
       "21     24.0\n",
       "       ... \n",
       "393    27.0\n",
       "394    44.0\n",
       "395    32.0\n",
       "396    28.0\n",
       "397    31.0\n",
       "Name: mpg, Length: 204, dtype: float64"
      ]
     },
     "execution_count": 11,
     "metadata": {},
     "output_type": "execute_result"
    }
   ],
   "source": [
    "# Filtering out the 'mpg' column from the mpg DataFrame based on 'cylinders == 4' \n",
    "mpg[mpg['cylinders'] == 4]['mpg']"
   ]
  },
  {
   "cell_type": "code",
   "execution_count": 12,
   "id": "a1da0434",
   "metadata": {},
   "outputs": [
    {
     "data": {
      "text/plain": [
       "<seaborn.axisgrid.FacetGrid at 0x13a18a82230>"
      ]
     },
     "execution_count": 12,
     "metadata": {},
     "output_type": "execute_result"
    },
    {
     "data": {
      "image/png": "[encoded data removed]",
      "text/plain": [
       "<Figure size 511.111x500 with 1 Axes>"
      ]
     },
     "metadata": {},
     "output_type": "display_data"
    }
   ],
   "source": [
    "# creating box-and-whisker plots showing the mpg of 4-cylinder cars made in the USA, Japan, and Europe.\n",
    "sns.catplot(data=mpg, x='origin', y=mpg[mpg['cylinders'] == 4]['mpg'], kind='box')"
   ]
  },
  {
   "cell_type": "code",
   "execution_count": 13,
   "id": "bd1f9f2d",
   "metadata": {},
   "outputs": [
    {
     "data": {
      "text/plain": [
       "<seaborn.axisgrid.FacetGrid at 0x13a1923e620>"
      ]
     },
     "execution_count": 13,
     "metadata": {},
     "output_type": "execute_result"
    },
    {
     "data": {
      "image/png": "[encoded data removed]",
      "text/plain": [
       "<Figure size 511.111x500 with 1 Axes>"
      ]
     },
     "metadata": {},
     "output_type": "display_data"
    }
   ],
   "source": [
    "# Making strip plots\n",
    "sns.catplot(data=mpg, x='origin', y= mpg[mpg['cylinders'] == 4]['mpg'], kind='strip')"
   ]
  },
  {
   "cell_type": "code",
   "execution_count": 14,
   "id": "d1634296",
   "metadata": {},
   "outputs": [],
   "source": [
    "# Filtering out the mpg column for 4-cylinder cars (cylinders = 4) from Europe (origin = \"europe\"), Japan (origin = \"Japan\"), and the USA (origin = \"usa\"), and storing the data in the variables eu, jp, and us, respectively. \n",
    "eu = mpg[(mpg['origin'] == 'europe') & (mpg['cylinders'] == 4)]['mpg']\n",
    "jp = mpg[(mpg['origin'] == 'japan') & (mpg['cylinders'] == 4)]['mpg']\n",
    "us = mpg[(mpg['origin'] == 'usa') & (mpg['cylinders'] == 4)]['mpg']"
   ]
  },
  {
   "cell_type": "markdown",
   "id": "571ef6c7",
   "metadata": {},
   "source": [
    "**Stating Hypothesis**"
   ]
  },
  {
   "cell_type": "markdown",
   "id": "2e7d1846",
   "metadata": {},
   "source": [
    "Null hypothesis H0: $\\mu_1$ = $\\mu_2$ = $\\mu_3$ (The mean mpg of 4-cylinder cars from Europe, Japan, and USA are all equal)\n",
    "\n",
    "Alternative hypothesis H1: At least one of the three locations produces 4-cylinder cars with a different mean mpg"
   ]
  },
  {
   "cell_type": "markdown",
   "id": "0b4a3d3f",
   "metadata": {},
   "source": [
    "**Selecting the Level of Significance or α Level**"
   ]
  },
  {
   "cell_type": "markdown",
   "id": "a6451c56",
   "metadata": {},
   "source": [
    "*ANOVA is inherently a one-tailed test*. If we choose a confidence level of 95% (i.e., 1 - α), the corresponding significance level is 5% (α = 0.05). "
   ]
  },
  {
   "cell_type": "markdown",
   "id": "454ea780",
   "metadata": {},
   "source": [
    "**Calculating Test Statistic and P-Value**"
   ]
  },
  {
   "cell_type": "code",
   "execution_count": 15,
   "id": "4e3012bd",
   "metadata": {},
   "outputs": [
    {
     "data": {
      "text/plain": [
       "F_onewayResult(statistic=9.411845545485601, pvalue=0.00012379894210177303)"
      ]
     },
     "execution_count": 15,
     "metadata": {},
     "output_type": "execute_result"
    }
   ],
   "source": [
    "# Using Scipy.stats library\n",
    "stats.f_oneway(eu, jp, us)"
   ]
  },
  {
   "cell_type": "code",
   "execution_count": 16,
   "id": "2908b174",
   "metadata": {},
   "outputs": [
    {
     "data": {
      "text/plain": [
       "<class 'statsmodels.stats.base.HolderTuple'>\n",
       "statistic = 9.411845545485592\n",
       "pvalue = 0.00012379894210177455\n",
       "df = (2.0, 201.0)\n",
       "df_num = 2.0\n",
       "df_denom = 201.0\n",
       "nobs_t = 204.0\n",
       "n_groups = 3\n",
       "means = array([28.41111111, 31.59565217, 27.84027778])\n",
       "nobs = array([63., 69., 72.])\n",
       "vars_ = array([41.50584229, 29.54777494, 20.6984957 ])\n",
       "use_var = 'equal'\n",
       "welch_correction = True\n",
       "tuple = (9.411845545485592, 0.00012379894210177455)"
      ]
     },
     "execution_count": 16,
     "metadata": {},
     "output_type": "execute_result"
    }
   ],
   "source": [
    "# Using Statsmodels library\n",
    "oneway.anova_oneway(data=(eu, jp, us), use_var='equal')\n",
    "# Since the ANOVA test assumes equal variances, we specify 'use_var = equal'"
   ]
  },
  {
   "cell_type": "markdown",
   "id": "1bcd557d",
   "metadata": {},
   "source": [
    "**Interpreting Results**"
   ]
  },
  {
   "cell_type": "markdown",
   "id": "b275c015",
   "metadata": {},
   "source": [
    "Since the p-value is less than α (0.05), we reject the null hypothesis. Therefore, we conclude that at least one of the three locations produces 4-cylinder cars with a mean mpg (miles per gallon) that is significantly different from the others."
   ]
  },
  {
   "cell_type": "markdown",
   "id": "61a041ba",
   "metadata": {},
   "source": [
    "# Post-Hoc Tests Following the ANOVA F-Test"
   ]
  },
  {
   "cell_type": "markdown",
   "id": "629cb900",
   "metadata": {},
   "source": [
    "Post-Hoc Tests are used to uncover specific differences between three or more group means when an analysis of variance (ANOVA) test is significant."
   ]
  },
  {
   "cell_type": "markdown",
   "id": "51530292",
   "metadata": {},
   "source": [
    "### Tukey’s Range Test or Tukey’s Test or Tukey's HSD Test"
   ]
  },
  {
   "cell_type": "markdown",
   "id": "1ec714d1",
   "metadata": {},
   "source": [
    "Among the various types of **post-hoc tests**, Tukey's range test—also known as Tukey's test or Tukey's HSD (Honestly Significant Difference) test—is one of the most commonly used. It is a single-step multiple comparison procedure and statistical test that compares the means of all possible pairs of groups."
   ]
  },
  {
   "cell_type": "markdown",
   "id": "99cbfee4",
   "metadata": {},
   "source": [
    "**Importing Libraries**"
   ]
  },
  {
   "cell_type": "code",
   "execution_count": 17,
   "id": "bbf29192",
   "metadata": {},
   "outputs": [],
   "source": [
    "from statsmodels.stats.multicomp import pairwise_tukeyhsd "
   ]
  },
  {
   "cell_type": "markdown",
   "id": "ded70dc2",
   "metadata": {},
   "source": [
    "### *Tukey's HSD Test for Question 1*"
   ]
  },
  {
   "cell_type": "markdown",
   "id": "7bda3261",
   "metadata": {},
   "source": [
    "**Loading Data**"
   ]
  },
  {
   "cell_type": "code",
   "execution_count": 18,
   "id": "21be164e",
   "metadata": {},
   "outputs": [],
   "source": [
    "# Importing the same data as in the question 1 above\n",
    "m1 = [150, 151, 152, 152, 151, 150]\n",
    "m2 = [153, 152, 148, 151, 149, 152]\n",
    "m3 = [156, 154, 155, 156, 157, 155]"
   ]
  },
  {
   "cell_type": "code",
   "execution_count": 19,
   "id": "70109ddd",
   "metadata": {},
   "outputs": [],
   "source": [
    "# Converting the given lists of data into DataFrames\n",
    "df_m1 = pd.DataFrame(data={'Volume': m1, 'Machine': 'Machine 1'})\n",
    "df_m2 = pd.DataFrame(data={'Volume': m2, 'Machine': 'Machine 2'})\n",
    "df_m3 = pd.DataFrame(data={'Volume': m3, 'Machine': 'Machine 3'})"
   ]
  },
  {
   "cell_type": "code",
   "execution_count": 20,
   "id": "eeec7dc1",
   "metadata": {},
   "outputs": [],
   "source": [
    "# Concatinating three dataFrames together and asssigning the new dataFrame to a variable called df_m1_m2_m3\n",
    "df_m1_m2_m3 = pd.concat([df_m1, df_m2, df_m3])"
   ]
  },
  {
   "cell_type": "markdown",
   "id": "82a8b102",
   "metadata": {},
   "source": [
    "**Performing Tukey's HSD Test**"
   ]
  },
  {
   "cell_type": "code",
   "execution_count": 21,
   "id": "d1730c8a",
   "metadata": {},
   "outputs": [],
   "source": [
    "# Performing Tukey's HSD Test and storing the result to a variable called result_vol\n",
    "result_vol = pairwise_tukeyhsd(endog=df_m1_m2_m3['Volume'], groups=df_m1_m2_m3['Machine'], alpha=0.05)"
   ]
  },
  {
   "cell_type": "code",
   "execution_count": 22,
   "id": "456ba32a",
   "metadata": {},
   "outputs": [
    {
     "name": "stdout",
     "output_type": "stream",
     "text": [
      "   Multiple Comparison of Means - Tukey HSD, FWER=0.05   \n",
      "=========================================================\n",
      "  group1    group2  meandiff p-adj   lower  upper  reject\n",
      "---------------------------------------------------------\n",
      "Machine 1 Machine 2  -0.1667  0.976 -2.2277 1.8944  False\n",
      "Machine 1 Machine 3      4.5 0.0001  2.4389 6.5611   True\n",
      "Machine 2 Machine 3   4.6667 0.0001  2.6056 6.7277   True\n",
      "---------------------------------------------------------\n"
     ]
    }
   ],
   "source": [
    "# Printing the test results\n",
    "print(result_vol)"
   ]
  },
  {
   "cell_type": "markdown",
   "id": "b8c896f5",
   "metadata": {},
   "source": [
    "**Interpreting Results**"
   ]
  },
  {
   "cell_type": "markdown",
   "id": "151deeee",
   "metadata": {},
   "source": [
    "As revealed by Tukey’s HSD test, the p-value is less than α (0.05) for the pairwise comparisons between Machine 1 and Machine 3, and between Machine 2 and Machine 3. Therefore, we conclude that the mean volume of bottles produced by Machine 1 and Machine 3, and by Machine 2 and Machine 3, differs significantly."
   ]
  },
  {
   "cell_type": "markdown",
   "id": "49aa51b1",
   "metadata": {},
   "source": [
    "### *Tukey's HSD Test for Question 2*"
   ]
  },
  {
   "cell_type": "markdown",
   "id": "55b194e0",
   "metadata": {},
   "source": [
    "**Loading Data**"
   ]
  },
  {
   "cell_type": "code",
   "execution_count": 23,
   "id": "b050adac",
   "metadata": {},
   "outputs": [
    {
     "data": {
      "text/html": [
       "<div>\n",
       "<style scoped>\n",
       "    .dataframe tbody tr th:only-of-type {\n",
       "        vertical-align: middle;\n",
       "    }\n",
       "\n",
       "    .dataframe tbody tr th {\n",
       "        vertical-align: top;\n",
       "    }\n",
       "\n",
       "    .dataframe thead th {\n",
       "        text-align: right;\n",
       "    }\n",
       "</style>\n",
       "<table border=\"1\" class=\"dataframe\">\n",
       "  <thead>\n",
       "    <tr style=\"text-align: right;\">\n",
       "      <th></th>\n",
       "      <th>mpg</th>\n",
       "      <th>cylinders</th>\n",
       "      <th>displacement</th>\n",
       "      <th>horsepower</th>\n",
       "      <th>weight</th>\n",
       "      <th>acceleration</th>\n",
       "      <th>model_year</th>\n",
       "      <th>origin</th>\n",
       "      <th>name</th>\n",
       "    </tr>\n",
       "  </thead>\n",
       "  <tbody>\n",
       "    <tr>\n",
       "      <th>0</th>\n",
       "      <td>18.0</td>\n",
       "      <td>8</td>\n",
       "      <td>307.0</td>\n",
       "      <td>130.0</td>\n",
       "      <td>3504</td>\n",
       "      <td>12.0</td>\n",
       "      <td>70</td>\n",
       "      <td>usa</td>\n",
       "      <td>chevrolet chevelle malibu</td>\n",
       "    </tr>\n",
       "    <tr>\n",
       "      <th>1</th>\n",
       "      <td>15.0</td>\n",
       "      <td>8</td>\n",
       "      <td>350.0</td>\n",
       "      <td>165.0</td>\n",
       "      <td>3693</td>\n",
       "      <td>11.5</td>\n",
       "      <td>70</td>\n",
       "      <td>usa</td>\n",
       "      <td>buick skylark 320</td>\n",
       "    </tr>\n",
       "    <tr>\n",
       "      <th>2</th>\n",
       "      <td>18.0</td>\n",
       "      <td>8</td>\n",
       "      <td>318.0</td>\n",
       "      <td>150.0</td>\n",
       "      <td>3436</td>\n",
       "      <td>11.0</td>\n",
       "      <td>70</td>\n",
       "      <td>usa</td>\n",
       "      <td>plymouth satellite</td>\n",
       "    </tr>\n",
       "    <tr>\n",
       "      <th>3</th>\n",
       "      <td>16.0</td>\n",
       "      <td>8</td>\n",
       "      <td>304.0</td>\n",
       "      <td>150.0</td>\n",
       "      <td>3433</td>\n",
       "      <td>12.0</td>\n",
       "      <td>70</td>\n",
       "      <td>usa</td>\n",
       "      <td>amc rebel sst</td>\n",
       "    </tr>\n",
       "    <tr>\n",
       "      <th>4</th>\n",
       "      <td>17.0</td>\n",
       "      <td>8</td>\n",
       "      <td>302.0</td>\n",
       "      <td>140.0</td>\n",
       "      <td>3449</td>\n",
       "      <td>10.5</td>\n",
       "      <td>70</td>\n",
       "      <td>usa</td>\n",
       "      <td>ford torino</td>\n",
       "    </tr>\n",
       "  </tbody>\n",
       "</table>\n",
       "</div>"
      ],
      "text/plain": [
       "    mpg  cylinders  displacement  horsepower  weight  acceleration  \\\n",
       "0  18.0          8         307.0       130.0    3504          12.0   \n",
       "1  15.0          8         350.0       165.0    3693          11.5   \n",
       "2  18.0          8         318.0       150.0    3436          11.0   \n",
       "3  16.0          8         304.0       150.0    3433          12.0   \n",
       "4  17.0          8         302.0       140.0    3449          10.5   \n",
       "\n",
       "   model_year origin                       name  \n",
       "0          70    usa  chevrolet chevelle malibu  \n",
       "1          70    usa          buick skylark 320  \n",
       "2          70    usa         plymouth satellite  \n",
       "3          70    usa              amc rebel sst  \n",
       "4          70    usa                ford torino  "
      ]
     },
     "execution_count": 23,
     "metadata": {},
     "output_type": "execute_result"
    }
   ],
   "source": [
    "# Importing the same data as in the question 2 above\n",
    "mpg = sns.load_dataset('mpg')\n",
    "mpg.head()"
   ]
  },
  {
   "cell_type": "code",
   "execution_count": 24,
   "id": "77cb4df1",
   "metadata": {},
   "outputs": [
    {
     "data": {
      "text/html": [
       "<div>\n",
       "<style scoped>\n",
       "    .dataframe tbody tr th:only-of-type {\n",
       "        vertical-align: middle;\n",
       "    }\n",
       "\n",
       "    .dataframe tbody tr th {\n",
       "        vertical-align: top;\n",
       "    }\n",
       "\n",
       "    .dataframe thead th {\n",
       "        text-align: right;\n",
       "    }\n",
       "</style>\n",
       "<table border=\"1\" class=\"dataframe\">\n",
       "  <thead>\n",
       "    <tr style=\"text-align: right;\">\n",
       "      <th></th>\n",
       "      <th>mpg</th>\n",
       "      <th>origin</th>\n",
       "    </tr>\n",
       "  </thead>\n",
       "  <tbody>\n",
       "    <tr>\n",
       "      <th>14</th>\n",
       "      <td>24.0</td>\n",
       "      <td>japan</td>\n",
       "    </tr>\n",
       "    <tr>\n",
       "      <th>18</th>\n",
       "      <td>27.0</td>\n",
       "      <td>japan</td>\n",
       "    </tr>\n",
       "    <tr>\n",
       "      <th>19</th>\n",
       "      <td>26.0</td>\n",
       "      <td>europe</td>\n",
       "    </tr>\n",
       "    <tr>\n",
       "      <th>20</th>\n",
       "      <td>25.0</td>\n",
       "      <td>europe</td>\n",
       "    </tr>\n",
       "    <tr>\n",
       "      <th>21</th>\n",
       "      <td>24.0</td>\n",
       "      <td>europe</td>\n",
       "    </tr>\n",
       "  </tbody>\n",
       "</table>\n",
       "</div>"
      ],
      "text/plain": [
       "     mpg  origin\n",
       "14  24.0   japan\n",
       "18  27.0   japan\n",
       "19  26.0  europe\n",
       "20  25.0  europe\n",
       "21  24.0  europe"
      ]
     },
     "execution_count": 24,
     "metadata": {},
     "output_type": "execute_result"
    }
   ],
   "source": [
    "# Reducing data (i.e., creating a new dataFrame 'df' by pulling the 'mpg' and the 'origin' columns out)\n",
    "df = mpg[mpg['cylinders'] == 4][['mpg', 'origin']]\n",
    "df.head()"
   ]
  },
  {
   "cell_type": "markdown",
   "id": "cb4aa627",
   "metadata": {},
   "source": [
    "**Performing Tukey's HSD Test**"
   ]
  },
  {
   "cell_type": "code",
   "execution_count": 25,
   "id": "b0151e71",
   "metadata": {},
   "outputs": [],
   "source": [
    "# Performing Tukey's HSD Test and storing the result to a variable called result_mpg\n",
    "result_mpg = pairwise_tukeyhsd(endog=df['mpg'], groups=df['origin'], alpha=0.05)"
   ]
  },
  {
   "cell_type": "code",
   "execution_count": 26,
   "id": "0638810d",
   "metadata": {},
   "outputs": [
    {
     "name": "stdout",
     "output_type": "stream",
     "text": [
      "Multiple Comparison of Means - Tukey HSD, FWER=0.05 \n",
      "====================================================\n",
      "group1 group2 meandiff p-adj   lower   upper  reject\n",
      "----------------------------------------------------\n",
      "europe  japan   3.1845  0.003  0.9267  5.4423   True\n",
      "europe    usa  -0.5708 0.8186 -2.8061  1.6644  False\n",
      " japan    usa  -3.7554 0.0002 -5.9382 -1.5726   True\n",
      "----------------------------------------------------\n"
     ]
    }
   ],
   "source": [
    "# Printing the test results\n",
    "print(result_mpg)"
   ]
  },
  {
   "cell_type": "markdown",
   "id": "bd3dbe83",
   "metadata": {},
   "source": [
    "**Interpreting Results**"
   ]
  },
  {
   "cell_type": "markdown",
   "id": "3ecf5d76",
   "metadata": {},
   "source": [
    "As revealed by Tukey’s HSD test, the p-value is less than α (0.05) for the pairwise comparisons between European and Japanese cars, and between Japanese and US cars. Therefore, we conclude that the mpg of 4-cylinder cars produced in Europe and Japan, and in Japan and the US, differs significantly."
   ]
  },
  {
   "cell_type": "code",
   "execution_count": null,
   "id": "46d561fc",
   "metadata": {},
   "outputs": [],
   "source": []
  }
 ],
 "metadata": {
  "kernelspec": {
   "display_name": "Python 3 (ipykernel)",
   "language": "python",
   "name": "python3"
  },
  "language_info": {
   "codemirror_mode": {
    "name": "ipython",
    "version": 3
   },
   "file_extension": ".py",
   "mimetype": "text/x-python",
   "name": "python",
   "nbconvert_exporter": "python",
   "pygments_lexer": "ipython3",
   "version": "3.10.16"
  }
 },
 "nbformat": 4,
 "nbformat_minor": 5
}
