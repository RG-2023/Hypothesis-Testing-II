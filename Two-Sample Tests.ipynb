{
 "cells": [
  {
   "cell_type": "markdown",
   "id": "2ba4f6b1",
   "metadata": {},
   "source": [
    "# Two-Sample Tests"
   ]
  },
  {
   "cell_type": "markdown",
   "id": "4f90307d",
   "metadata": {},
   "source": [
    "## I. Two-Sample Z-Test"
   ]
  },
  {
   "cell_type": "markdown",
   "id": "6df6defd",
   "metadata": {},
   "source": [
    "**The conditions for two-sample z-test include:** \n",
    "- Samples are randomly selected\n",
    "- Two sets of data/samples are independent from one another \n",
    "- Sampling distribution approximates normal distribution (or, the data follows a normal distribution)\n",
    "- Comparision of means from two different populations \n",
    "- Population variances are known \n",
    "- Sample sizes are large (i.e., n $\\geq$ 30)"
   ]
  },
  {
   "cell_type": "markdown",
   "id": "89554059",
   "metadata": {},
   "source": [
    "The formula for the two-sample Z-test is:\n",
    "\n",
    "$$\n",
    "Z(cal.) = \\frac{(\\bar{x}_1 - \\bar{x}_2)}{\\sqrt{\\left(\\frac{\\sigma_1^2}{n_1} + \\frac{\\sigma_2^2}{n_2}\\right)}}\n",
    "$$\n",
    "\n",
    "Where:\n",
    "\n",
    "$\\bar{x}_1$ and $\\bar{x}_2$ are the sample means of population 1 and population 2, respectively\n",
    "\n",
    "$\\sigma_1$ and $\\sigma_2$ are the standard deviations of population 1 and population 2, respectively \n",
    "\n",
    "$n_1$ and $n_2$ are the sample sizes of population 1 and population 2, respectively"
   ]
  },
  {
   "cell_type": "markdown",
   "id": "19e7c76f",
   "metadata": {},
   "source": [
    "### *Two-Sample Z-Test (Two-Tailed Test)*"
   ]
  },
  {
   "cell_type": "markdown",
   "id": "12eb45e6",
   "metadata": {},
   "source": [
    "**Question:** Two machines produce perfume bottles, and 100 samples were drawn from each. Bottles from Machine 1 had a mean volume of 151.2 and a standard deviation of 2.1. Bottles from Machine 2 had a mean volume of 151.9 and a standard deviation of 2.2. Is there a difference in the mean volumes of bottles produced by these two machines? Perform a hypothesis test at the 95% confidence level."
   ]
  },
  {
   "cell_type": "markdown",
   "id": "da0e56a7",
   "metadata": {},
   "source": [
    "**Importing Libraries**"
   ]
  },
  {
   "cell_type": "code",
   "execution_count": 1,
   "id": "07290888",
   "metadata": {},
   "outputs": [],
   "source": [
    "import numpy as np\n",
    "import pandas as pd\n",
    "import matplotlib.pyplot as plt\n",
    "import seaborn as sns\n",
    "import scipy.stats as stats\n",
    "from statsmodels.stats import weightstats"
   ]
  },
  {
   "cell_type": "markdown",
   "id": "b11bbd41",
   "metadata": {},
   "source": [
    "**Loading Data**"
   ]
  },
  {
   "cell_type": "code",
   "execution_count": 2,
   "id": "af692c4a",
   "metadata": {},
   "outputs": [],
   "source": [
    "# Reading data as df\n",
    "df = pd.read_csv('Two Machines.csv')"
   ]
  },
  {
   "cell_type": "code",
   "execution_count": 3,
   "id": "7759a76f",
   "metadata": {},
   "outputs": [
    {
     "data": {
      "text/html": [
       "<div>\n",
       "<style scoped>\n",
       "    .dataframe tbody tr th:only-of-type {\n",
       "        vertical-align: middle;\n",
       "    }\n",
       "\n",
       "    .dataframe tbody tr th {\n",
       "        vertical-align: top;\n",
       "    }\n",
       "\n",
       "    .dataframe thead th {\n",
       "        text-align: right;\n",
       "    }\n",
       "</style>\n",
       "<table border=\"1\" class=\"dataframe\">\n",
       "  <thead>\n",
       "    <tr style=\"text-align: right;\">\n",
       "      <th></th>\n",
       "      <th>Volume</th>\n",
       "      <th>Machine</th>\n",
       "    </tr>\n",
       "  </thead>\n",
       "  <tbody>\n",
       "    <tr>\n",
       "      <th>0</th>\n",
       "      <td>154.27</td>\n",
       "      <td>Machine 1</td>\n",
       "    </tr>\n",
       "    <tr>\n",
       "      <th>1</th>\n",
       "      <td>150.03</td>\n",
       "      <td>Machine 1</td>\n",
       "    </tr>\n",
       "    <tr>\n",
       "      <th>2</th>\n",
       "      <td>151.14</td>\n",
       "      <td>Machine 1</td>\n",
       "    </tr>\n",
       "    <tr>\n",
       "      <th>3</th>\n",
       "      <td>145.47</td>\n",
       "      <td>Machine 1</td>\n",
       "    </tr>\n",
       "    <tr>\n",
       "      <th>4</th>\n",
       "      <td>149.71</td>\n",
       "      <td>Machine 1</td>\n",
       "    </tr>\n",
       "  </tbody>\n",
       "</table>\n",
       "</div>"
      ],
      "text/plain": [
       "   Volume    Machine\n",
       "0  154.27  Machine 1\n",
       "1  150.03  Machine 1\n",
       "2  151.14  Machine 1\n",
       "3  145.47  Machine 1\n",
       "4  149.71  Machine 1"
      ]
     },
     "execution_count": 3,
     "metadata": {},
     "output_type": "execute_result"
    }
   ],
   "source": [
    "# Checking the head of the dataFrame\n",
    "df.head()"
   ]
  },
  {
   "cell_type": "code",
   "execution_count": 4,
   "id": "81e143d0",
   "metadata": {},
   "outputs": [
    {
     "data": {
      "text/html": [
       "<div>\n",
       "<style scoped>\n",
       "    .dataframe tbody tr th:only-of-type {\n",
       "        vertical-align: middle;\n",
       "    }\n",
       "\n",
       "    .dataframe tbody tr th {\n",
       "        vertical-align: top;\n",
       "    }\n",
       "\n",
       "    .dataframe thead th {\n",
       "        text-align: right;\n",
       "    }\n",
       "</style>\n",
       "<table border=\"1\" class=\"dataframe\">\n",
       "  <thead>\n",
       "    <tr style=\"text-align: right;\">\n",
       "      <th></th>\n",
       "      <th>Volume</th>\n",
       "    </tr>\n",
       "  </thead>\n",
       "  <tbody>\n",
       "    <tr>\n",
       "      <th>count</th>\n",
       "      <td>200.000000</td>\n",
       "    </tr>\n",
       "    <tr>\n",
       "      <th>mean</th>\n",
       "      <td>151.538350</td>\n",
       "    </tr>\n",
       "    <tr>\n",
       "      <th>std</th>\n",
       "      <td>2.180823</td>\n",
       "    </tr>\n",
       "    <tr>\n",
       "      <th>min</th>\n",
       "      <td>145.440000</td>\n",
       "    </tr>\n",
       "    <tr>\n",
       "      <th>25%</th>\n",
       "      <td>150.015000</td>\n",
       "    </tr>\n",
       "    <tr>\n",
       "      <th>50%</th>\n",
       "      <td>151.515000</td>\n",
       "    </tr>\n",
       "    <tr>\n",
       "      <th>75%</th>\n",
       "      <td>153.110000</td>\n",
       "    </tr>\n",
       "    <tr>\n",
       "      <th>max</th>\n",
       "      <td>156.230000</td>\n",
       "    </tr>\n",
       "  </tbody>\n",
       "</table>\n",
       "</div>"
      ],
      "text/plain": [
       "           Volume\n",
       "count  200.000000\n",
       "mean   151.538350\n",
       "std      2.180823\n",
       "min    145.440000\n",
       "25%    150.015000\n",
       "50%    151.515000\n",
       "75%    153.110000\n",
       "max    156.230000"
      ]
     },
     "execution_count": 4,
     "metadata": {},
     "output_type": "execute_result"
    }
   ],
   "source": [
    "# Checking the describe() method to see statistical summary of the numerical column of the dataset\n",
    "df.describe()"
   ]
  },
  {
   "cell_type": "code",
   "execution_count": 5,
   "id": "83ec28aa",
   "metadata": {},
   "outputs": [
    {
     "name": "stdout",
     "output_type": "stream",
     "text": [
      "<class 'pandas.core.frame.DataFrame'>\n",
      "RangeIndex: 200 entries, 0 to 199\n",
      "Data columns (total 2 columns):\n",
      " #   Column   Non-Null Count  Dtype  \n",
      "---  ------   --------------  -----  \n",
      " 0   Volume   200 non-null    float64\n",
      " 1   Machine  200 non-null    object \n",
      "dtypes: float64(1), object(1)\n",
      "memory usage: 3.2+ KB\n"
     ]
    }
   ],
   "source": [
    "# Checking the info(method)\n",
    "df.info()"
   ]
  },
  {
   "cell_type": "markdown",
   "id": "40121b52",
   "metadata": {},
   "source": [
    "**Visualizing Data**"
   ]
  },
  {
   "cell_type": "code",
   "execution_count": 6,
   "id": "3ffaa2b9",
   "metadata": {},
   "outputs": [
    {
     "data": {
      "text/plain": [
       "<seaborn.axisgrid.FacetGrid at 0x2644ba390c0>"
      ]
     },
     "execution_count": 6,
     "metadata": {},
     "output_type": "execute_result"
    },
    {
     "data": {
      "image/png": "[encoded data removed]",
      "text/plain": [
       "<Figure size 511.111x500 with 1 Axes>"
      ]
     },
     "metadata": {},
     "output_type": "display_data"
    }
   ],
   "source": [
    "# Plotting box and whisker plots\n",
    "sns.catplot(data=df, x='Machine', y='Volume', kind='box')"
   ]
  },
  {
   "cell_type": "code",
   "execution_count": 7,
   "id": "d0451220",
   "metadata": {},
   "outputs": [],
   "source": [
    "# Filtering the data in the Volume column according to the machine types (i.e. Machine 1 and Machine 2).\n",
    "m1 = df[df['Machine'] == 'Machine 1']['Volume'] # For Machine 1\n",
    "m2 = df[df['Machine'] == 'Machine 2']['Volume'] # For Machine 2"
   ]
  },
  {
   "cell_type": "markdown",
   "id": "753418cf",
   "metadata": {},
   "source": [
    "**Stating Hypothesis**"
   ]
  },
  {
   "cell_type": "markdown",
   "id": "e1caf341",
   "metadata": {},
   "source": [
    "Null hypothesis H0: $\\mu_1$ = $\\mu_2$ or $\\mu_1$ - $\\mu_2$ = 0 (The mean volume of bottles produced by Machine 1 is equal to the mean volume of bottles produced by Machine 2)\n",
    "\n",
    "Alternative hypothesis H1: $\\mu_1$ $\\neq$ $\\mu_2$ or $\\mu_1$ - $\\mu_2$ $\\neq$ 0 (The mean volume of bottles produced by Machine 1 is not equal to the mean volume of bottles produced by Machine 2)\n",
    "\n",
    "Here, $\\mu_1$  and $\\mu_2$ refer to the true but unknown population means we are testing."
   ]
  },
  {
   "cell_type": "markdown",
   "id": "923d577b",
   "metadata": {},
   "source": [
    "**Selecting the Level of Significance or α Level**"
   ]
  },
  {
   "cell_type": "markdown",
   "id": "45bb1121",
   "metadata": {},
   "source": [
    "Given a confidence level of 95% (i.e., 1 - α), the corresponding significance level is 5% (α = 0.05). For a two-tailed test, the significance level is split equally between both tails, resulting in α/2 = 0.025 for each tail."
   ]
  },
  {
   "cell_type": "markdown",
   "id": "3be8b0e2",
   "metadata": {},
   "source": [
    "**Calculating Test Statistic and P-Value**"
   ]
  },
  {
   "cell_type": "code",
   "execution_count": 8,
   "id": "0a403e54",
   "metadata": {},
   "outputs": [
    {
     "data": {
      "text/plain": [
       "(-2.189406040190184, 0.028567341032618248)"
      ]
     },
     "execution_count": 8,
     "metadata": {},
     "output_type": "execute_result"
    }
   ],
   "source": [
    "weightstats.ztest(x1=m1, x2=m2, alternative='two-sided')\n",
    "# Here, weightstats library is mainly used for testing one-sample or two-sample means"
   ]
  },
  {
   "cell_type": "markdown",
   "id": "1b5581dd",
   "metadata": {},
   "source": [
    "Here, calculated test statistic (Z cal) is -2.18 and the two-tailed p-value associated with Z cal = -2.18 is 0.028."
   ]
  },
  {
   "cell_type": "markdown",
   "id": "35622a7b",
   "metadata": {},
   "source": [
    "**Interpreting Results**"
   ]
  },
  {
   "cell_type": "markdown",
   "id": "c1b0f81e",
   "metadata": {},
   "source": [
    "Since the p-value is less than α (0.05), we reject the null hypothesis. Therefore, we conclude that the mean volume of bottles produced by Machine 1 significantly differ from the mean volume of bottles produced by Machine 2."
   ]
  },
  {
   "cell_type": "markdown",
   "id": "f7bb0b15",
   "metadata": {},
   "source": [
    "### A t-test is also an alternative to a z-test when the sample size is large"
   ]
  },
  {
   "cell_type": "markdown",
   "id": "c00c25eb",
   "metadata": {},
   "source": [
    "A t-distribution approaches the z-distribution (or a standard normal distribution) when the sample size increases."
   ]
  },
  {
   "cell_type": "markdown",
   "id": "b4e4db6c",
   "metadata": {},
   "source": [
    "**Let’s check this by performing a t-test using the scipy.stats module.**"
   ]
  },
  {
   "cell_type": "code",
   "execution_count": 9,
   "id": "52aaa7e3",
   "metadata": {},
   "outputs": [
    {
     "data": {
      "text/plain": [
       "TtestResult(statistic=-2.189406040190184, pvalue=0.029736299645472124, df=198.0)"
      ]
     },
     "execution_count": 9,
     "metadata": {},
     "output_type": "execute_result"
    }
   ],
   "source": [
    "# For Two-Tailed Test\n",
    "stats.ttest_ind(m1, m2, equal_var=True, alternative='two-sided')"
   ]
  },
  {
   "cell_type": "markdown",
   "id": "9b079afb",
   "metadata": {},
   "source": [
    "Here, the t-test yields similar results to the two-sided z-test conducted above."
   ]
  },
  {
   "cell_type": "markdown",
   "id": "bb7aa7f7",
   "metadata": {},
   "source": [
    "## II. Two-Sample T-Test"
   ]
  },
  {
   "cell_type": "markdown",
   "id": "9b595ddc",
   "metadata": {},
   "source": [
    "**The conditions for two-sample t-test include:**\n",
    "- Samples are randomly selected\n",
    "- **Two sets of data/samples are independent from one another**\n",
    "- Sampling distribution approximates normal distribution (or, the data follows a normal distribution)\n",
    "- Comparision of means from two different populations\n",
    "- Population variances are unknown \n",
    "- Sample sizes are small (i.e., n $\\lt$ 30)"
   ]
  },
  {
   "cell_type": "markdown",
   "id": "49fee1ba",
   "metadata": {},
   "source": [
    "### Case I: Equal Variances Assumed"
   ]
  },
  {
   "cell_type": "markdown",
   "id": "0513f49b",
   "metadata": {},
   "source": [
    "The test statistic formula for two-sample t-test (with equal variances assumed) is:\n",
    "\n",
    "$$\n",
    "t(cal.) = \\frac{(\\bar{x}_1 - \\bar{x}_2)}{\\sqrt{\\left(\\frac{s_p^2}{n_1} + \\frac{s_p^2}{n_2} \\right)}}\n",
    "$$\n",
    "\n",
    "Where:\n",
    "\n",
    "$\\bar{x}_1$ and $\\bar{x}_2$ are the sample means of population 1 and population 2, respectively \n",
    "\n",
    "$n_1$ and $n_2$ are the sample sizes of population 1 and population 2, respectively\n",
    "\n",
    "$s_p$ is the pooled standard deviation "
   ]
  },
  {
   "cell_type": "markdown",
   "id": "b97b6e17",
   "metadata": {},
   "source": [
    "Here, the pooled variance formula for two-sample t-test (with equal variances assumed) is:\n",
    "\n",
    "$$\n",
    "s_p^2 = \\frac{(n_1 - 1)s_1^2 + (n_2 - 1)s_2^2}{n_1 + n_2 - 2}\n",
    "$$\n",
    "\n",
    "Where:\n",
    "\n",
    "$s_p^2$ = pooled variance\n",
    "\n",
    "$s_1^2$ = variance of sample 1\n",
    "\n",
    "$s_2^2$ = variance of sample 2\n",
    "\n",
    "$n_1$ = size of sample 1\n",
    "\n",
    "$n_2$ = size of sample 2"
   ]
  },
  {
   "cell_type": "markdown",
   "id": "347b848c",
   "metadata": {},
   "source": [
    "The formula for degrees of freedom (df) in a two-sample t-test with equal variances assumed is:\n",
    "\n",
    "Degrees of freedom (df) = $n_1 + n_2 -2$"
   ]
  },
  {
   "cell_type": "markdown",
   "id": "e3732438",
   "metadata": {},
   "source": [
    "### Case II: Unequal Variances Assumed"
   ]
  },
  {
   "cell_type": "markdown",
   "id": "310c58da",
   "metadata": {},
   "source": [
    "The test statistic formula for two-sample t-test (with unequal variances assumed) is:\n",
    "\n",
    "$$\n",
    "t(cal.) = \\frac{(\\bar{x}_1 - \\bar{x}_2)}{\\sqrt{\\left(\\frac{s_1^2}{n_1} + \\frac{s_2^2}{n_2} \\right)}}\n",
    "$$\n",
    "\n",
    "Where:\n",
    "\n",
    "- $\\bar{x}_1$ and $\\bar{x}_2$ are the sample means of population 1 and population 2, respectively\n",
    "\n",
    "- $s_1$ and $s_2$ are the sample standard deviations of population 1 and population 2, respectively\n",
    "\n",
    "- $n_1$ and $n_2$ are the sample sizes of population 1 and population 2, respectively"
   ]
  },
  {
   "cell_type": "markdown",
   "id": "b0dc519e",
   "metadata": {},
   "source": [
    "The formula for degrees of freedom (df) in a two-sample t-test with unequal variances (also known as Welch's t-test) is:\n",
    "\n",
    "$$\n",
    "df = \\frac{\\left( \\frac{s_1^2}{n_1} + \\frac{s_2^2}{n_2} \\right)^2}{\\frac{\\left( \\frac{s_1^2}{n_1} \\right)^2}{n_1 - 1} + \\frac{\\left( \\frac{s_2^2}{n_2} \\right)^2}{n_2 - 1}}\n",
    "$$\n",
    "\n",
    "Where:\n",
    "\n",
    "$s_1^2$ and $s_2^2$ are the sample variances\n",
    "\n",
    "$n_1$ and $n_2$ are the sample sizes"
   ]
  },
  {
   "cell_type": "markdown",
   "id": "6be5e06d",
   "metadata": {},
   "source": [
    "### *Two-Sample T-Test (Two-Tailed Test): Equal Variances Assumed*"
   ]
  },
  {
   "cell_type": "markdown",
   "id": "d09a2387",
   "metadata": {},
   "source": [
    "**Question:** Five samples were collected from bottles produced by each of Machines A and B. The volumes of bottles (in cc) from Machine A were 150, 152, 154, 152, and 151, while those from Machine B were 156, 155, 158, 155, and 154. Is there a  difference in the mean volumes of bottles produced by these two machines? Perform a hypothesis test at the 95% confidence level, assuming equal variances."
   ]
  },
  {
   "cell_type": "markdown",
   "id": "56a23089",
   "metadata": {},
   "source": [
    "**Importing Libraries**"
   ]
  },
  {
   "cell_type": "code",
   "execution_count": 10,
   "id": "dbaf0849",
   "metadata": {},
   "outputs": [],
   "source": [
    "import numpy as np\n",
    "import pandas as pd\n",
    "import matplotlib.pyplot as plt\n",
    "import seaborn as sns\n",
    "import scipy.stats as stats"
   ]
  },
  {
   "cell_type": "markdown",
   "id": "ba3fe8da",
   "metadata": {},
   "source": [
    "**Creating Data**"
   ]
  },
  {
   "cell_type": "code",
   "execution_count": 11,
   "id": "28256d09",
   "metadata": {},
   "outputs": [],
   "source": [
    "m_a = [150, 152, 154, 152, 151] # data showing the volules of bottles produced by machine A \n",
    "m_b = [156, 155, 158, 155, 154] # data showing the volules of bottles produced by machine B"
   ]
  },
  {
   "cell_type": "markdown",
   "id": "ee71f870",
   "metadata": {},
   "source": [
    "**Visualizing Data**"
   ]
  },
  {
   "cell_type": "code",
   "execution_count": 12,
   "id": "fc1a877f",
   "metadata": {},
   "outputs": [
    {
     "data": {
      "image/png": "[encoded data removed]",
      "text/plain": [
       "<Figure size 500x500 with 1 Axes>"
      ]
     },
     "metadata": {},
     "output_type": "display_data"
    },
    {
     "data": {
      "image/png": "[encoded data removed]",
      "text/plain": [
       "<Figure size 500x500 with 1 Axes>"
      ]
     },
     "metadata": {},
     "output_type": "display_data"
    }
   ],
   "source": [
    "# Plotting histograms\n",
    "sns.displot(data=m_a, label= 'Machine A')\n",
    "plt.legend()\n",
    "sns.displot(data=m_b, label= 'Machine B')\n",
    "plt.legend();"
   ]
  },
  {
   "cell_type": "markdown",
   "id": "bcab57ee",
   "metadata": {},
   "source": [
    "**Stating Hypothesis**"
   ]
  },
  {
   "cell_type": "markdown",
   "id": "676adfe8",
   "metadata": {},
   "source": [
    "Null hypothesis H0: $\\mu_A$ = $\\mu_B$ or $\\mu_A$ - $\\mu_B$ = 0 (The mean volume of bottles produced by Machine A is equal to that produced by Machine B)\n",
    "\n",
    "Alternative hypothesis H1: $\\mu_A$ $\\neq$ $\\mu_B$ or $\\mu_A$ - $\\mu_B$ $\\neq$ 0 (The mean volume of bottles produced by Machine A is not equal to that produced by Machine B)\n",
    "\n",
    "Here, $\\mu_A$  and $\\mu_B$ refer to the true but unknown population means we are testing."
   ]
  },
  {
   "cell_type": "markdown",
   "id": "77d1e477",
   "metadata": {},
   "source": [
    "**Selecting the Level of Significance or α Level**"
   ]
  },
  {
   "cell_type": "markdown",
   "id": "76d55ab9",
   "metadata": {},
   "source": [
    "Given a confidence level of 95% (i.e., 1 - α), the corresponding significance level is 5% (α = 0.05). For a two-tailed test, the significance level is split equally between both tails, resulting in α/2 = 0.025 for each tail."
   ]
  },
  {
   "cell_type": "markdown",
   "id": "bc4dfe59",
   "metadata": {},
   "source": [
    "**Calculating Test Statistic and P-Value**"
   ]
  },
  {
   "cell_type": "code",
   "execution_count": 13,
   "id": "9077c73a",
   "metadata": {},
   "outputs": [
    {
     "data": {
      "text/plain": [
       "TtestResult(statistic=-4.005551702879929, pvalue=0.003919295477128331, df=8.0)"
      ]
     },
     "execution_count": 13,
     "metadata": {},
     "output_type": "execute_result"
    }
   ],
   "source": [
    "stats.ttest_ind(m_a, m_b, equal_var=True, alternative='two-sided')"
   ]
  },
  {
   "cell_type": "markdown",
   "id": "af134782",
   "metadata": {},
   "source": [
    "**Interpreting Results**"
   ]
  },
  {
   "cell_type": "markdown",
   "id": "65938e68",
   "metadata": {},
   "source": [
    "Since the p-value is less than α (0.05), we reject the null hypothesis. Therefore, we conclude that the mean volume of bottles produced by Machine A significantly differ from the mean volume of bottles produced by Machine B."
   ]
  },
  {
   "cell_type": "markdown",
   "id": "6a3d74f6",
   "metadata": {},
   "source": [
    "### *Two-Sample T-Test (Two-Tailed Test): Unequal Variances Assumed*"
   ]
  },
  {
   "cell_type": "markdown",
   "id": "7bc70f3e",
   "metadata": {},
   "source": [
    "**Question:** Five samples were collected from bottles produced by each of Machines A and C. The volumes of bottles (in cc) from Machine A were 150, 152, 154, 152, and 151, while those from Machine C were 144, 162, 177, 150, and 140. Is there a  difference in the mean volumes of bottles produced by these two machines? Perform a hypothesis test at the 95% confidence level, assuming unequal variances."
   ]
  },
  {
   "cell_type": "markdown",
   "id": "6b3f2a69",
   "metadata": {},
   "source": [
    "**Creating Data**"
   ]
  },
  {
   "cell_type": "code",
   "execution_count": 14,
   "id": "a4fd4982",
   "metadata": {},
   "outputs": [],
   "source": [
    "m_a = [150, 152, 154, 152, 151] # data showing the volules of bottles produced by machine A\n",
    "m_c = [144, 162, 177, 150, 140] # data showing the volules of bottles produced by machine C"
   ]
  },
  {
   "cell_type": "markdown",
   "id": "00c68b15",
   "metadata": {},
   "source": [
    "**Visualizing Data**"
   ]
  },
  {
   "cell_type": "code",
   "execution_count": 15,
   "id": "fba05a9a",
   "metadata": {},
   "outputs": [
    {
     "data": {
      "image/png": "[encoded data removed]",
      "text/plain": [
       "<Figure size 500x500 with 1 Axes>"
      ]
     },
     "metadata": {},
     "output_type": "display_data"
    },
    {
     "data": {
      "image/png": "[encoded data removed]",
      "text/plain": [
       "<Figure size 500x500 with 1 Axes>"
      ]
     },
     "metadata": {},
     "output_type": "display_data"
    }
   ],
   "source": [
    "# Plotting histograms\n",
    "sns.displot(data=m_a, label='Machine A')\n",
    "plt.legend()\n",
    "sns.displot(data=m_c, label='Machine C')\n",
    "plt.legend();"
   ]
  },
  {
   "cell_type": "markdown",
   "id": "1baf1f18",
   "metadata": {},
   "source": [
    "**Stating Hypothesis**"
   ]
  },
  {
   "cell_type": "markdown",
   "id": "93d09299",
   "metadata": {},
   "source": [
    "Null hypothesis H0: $\\mu_A$ = $\\mu_C$ or $\\mu_A$ - $\\mu_C$ = 0 (The mean volume of bottles produced by Machine A is equal to that produced by Machine C)\n",
    "\n",
    "Alternative hypothesis H1: $\\mu_A$ $\\neq$ $\\mu_C$ or $\\mu_A$ - $\\mu_C$ $\\neq$ 0 (The mean volume of bottles produced by Machine A is not equal to that produced by Machine C)\n",
    "\n",
    "Here, $\\mu_A$  and $\\mu_C$ refer to the true but unknown population means we are testing."
   ]
  },
  {
   "cell_type": "markdown",
   "id": "438f81c3",
   "metadata": {},
   "source": [
    "**Selecting the Level of Significance or α Level**"
   ]
  },
  {
   "cell_type": "markdown",
   "id": "6a5d8955",
   "metadata": {},
   "source": [
    "Given a confidence level of 95% (i.e., 1 - α), the corresponding significance level is 5% (α = 0.05). For a two-tailed test, the significance level is split equally between both tails, resulting in α/2 = 0.025 for each tail."
   ]
  },
  {
   "cell_type": "markdown",
   "id": "c65522a5",
   "metadata": {},
   "source": [
    "**Calculating Test Statistic and P-Value**"
   ]
  },
  {
   "cell_type": "code",
   "execution_count": 16,
   "id": "25cebdb7",
   "metadata": {},
   "outputs": [
    {
     "data": {
      "text/plain": [
       "TtestResult(statistic=-0.4146442144313621, pvalue=0.699289145758865, df=4.077937685622884)"
      ]
     },
     "execution_count": 16,
     "metadata": {},
     "output_type": "execute_result"
    }
   ],
   "source": [
    "stats.ttest_ind(m_a, m_c, equal_var=False, alternative='two-sided')"
   ]
  },
  {
   "cell_type": "markdown",
   "id": "bf11ef80",
   "metadata": {},
   "source": [
    "**Interpreting Results**"
   ]
  },
  {
   "cell_type": "markdown",
   "id": "c2dde477",
   "metadata": {},
   "source": [
    "Since the p-value is greater than α = 0.05, we fail to reject the null hypothesis. Therefore, we conclude that the mean volume of bottles produced by Machine A does not differ significantly from that produced by Machine C."
   ]
  },
  {
   "cell_type": "markdown",
   "id": "052d03ce",
   "metadata": {},
   "source": [
    "## III. Paired T-Test"
   ]
  },
  {
   "cell_type": "markdown",
   "id": "fa6c5c41",
   "metadata": {},
   "source": [
    "**The conditions for paired t-test include:**\n",
    "- Samples are randomly selected\n",
    "- **Two sets of data/samples are dependent on one another**\n",
    "- Sampling distribution approximates normal distribution (or, the data follows a normal distribution)\n",
    "- Comparision of means from two different populations\n",
    "- Population variances are unknown \n",
    "- Sample sizes are small (i.e., n $\\lt$ 30)"
   ]
  },
  {
   "cell_type": "markdown",
   "id": "9a34677e",
   "metadata": {},
   "source": [
    "The formula for the paired t-test is:\n",
    "\n",
    "$$\n",
    "t(cal.) = \\frac{ \\bar{x}_d - \\mu_0}{s_d / \\sqrt{n}}\n",
    "$$\n",
    "\n",
    "Where:\n",
    "\n",
    "$\\bar{x}_d$ = the sample mean of the differences\n",
    "\n",
    "$\\mu_0$ = Population mean (hypothesized)\n",
    "\n",
    "$s_d$ = the sample standard deviation of the differences\n",
    "\n",
    "$n$ = sample size (i.e. the number of paired observations)"
   ]
  },
  {
   "cell_type": "markdown",
   "id": "37caf460",
   "metadata": {},
   "source": [
    "### *Paired T-Test (Two-Tailed Test)*"
   ]
  },
  {
   "cell_type": "markdown",
   "id": "819639c2",
   "metadata": {},
   "source": [
    "**Question:** To test the effectiveness of a drug developed by a pharmaceutical company in controlling blood pressure, blood samples from five individuals were collected both before and after using the drug, and their blood pressure was measured. Is there a difference in blood pressure before and after taking the drug? Perform a hypothesis test at the 95% confidence level."
   ]
  },
  {
   "cell_type": "markdown",
   "id": "3e81bb3c",
   "metadata": {},
   "source": [
    "**Importing Libraries**"
   ]
  },
  {
   "cell_type": "code",
   "execution_count": 17,
   "id": "25711486",
   "metadata": {},
   "outputs": [],
   "source": [
    "import numpy as np\n",
    "import pandas as pd\n",
    "import matplotlib.pyplot as plt\n",
    "import seaborn as sns\n",
    "import scipy.stats as stats"
   ]
  },
  {
   "cell_type": "markdown",
   "id": "f1afcf6c",
   "metadata": {},
   "source": [
    "**Creating Data**"
   ]
  },
  {
   "cell_type": "code",
   "execution_count": 18,
   "id": "51db5136",
   "metadata": {},
   "outputs": [],
   "source": [
    "bp_before = [120, 122, 143, 100, 109] # Data showing the blood pressure of the patients before using the drug\n",
    "bp_after = [122, 120, 141, 109, 109] # Data showing the blood pressure of the patients after using the drug"
   ]
  },
  {
   "cell_type": "markdown",
   "id": "31e26176",
   "metadata": {},
   "source": [
    "**Visualizing Data**"
   ]
  },
  {
   "cell_type": "code",
   "execution_count": 19,
   "id": "23c7e718",
   "metadata": {},
   "outputs": [
    {
     "data": {
      "image/png": "[encoded data removed]",
      "text/plain": [
       "<Figure size 500x500 with 1 Axes>"
      ]
     },
     "metadata": {},
     "output_type": "display_data"
    },
    {
     "data": {
      "image/png": "[encoded data removed]",
      "text/plain": [
       "<Figure size 500x500 with 1 Axes>"
      ]
     },
     "metadata": {},
     "output_type": "display_data"
    }
   ],
   "source": [
    "# Plotting histograms\n",
    "sns.displot(data=bp_before, label='BP Before', bins=3)\n",
    "plt.legend()\n",
    "sns.displot(data=bp_after, label='BP After', bins=3)\n",
    "plt.legend();"
   ]
  },
  {
   "cell_type": "markdown",
   "id": "9fe40223",
   "metadata": {},
   "source": [
    "**Stating Hypothesis**"
   ]
  },
  {
   "cell_type": "markdown",
   "id": "641862b7",
   "metadata": {},
   "source": [
    "Null hypothesis H0: $\\mu_{Bef}$ = $\\mu_{Aft}$ or $\\mu_{Bef}$ - $\\mu_{Aft}$ = 0 (The mean blood pressure before using the drug is equal to the mean blood pressure after using the drug)\n",
    "\n",
    "Alternative hypothesis H1: $\\mu_{Bef}$ $\\neq$ $\\mu_{Aft}$ or $\\mu_{Bef}$ - $\\mu_{Aft}$ $\\neq$ 0 (The mean blood pressure before using the drug is not equal to the mean blood pressure after using the drug)\n",
    "\n",
    "Here, $\\mu_{Bef}$  and $\\mu_{Aft}$ refer to the true but unknown population means we are testing."
   ]
  },
  {
   "cell_type": "markdown",
   "id": "cb22b67c",
   "metadata": {},
   "source": [
    "**Selecting the Level of Significance or α Level**"
   ]
  },
  {
   "cell_type": "markdown",
   "id": "d5f85351",
   "metadata": {},
   "source": [
    "Given a confidence level of 95% (i.e., 1 - α), the corresponding significance level is 5% (α = 0.05). For a two-tailed test, the significance level is split equally between both tails, resulting in α/2 = 0.025 for each tail."
   ]
  },
  {
   "cell_type": "markdown",
   "id": "7239c280",
   "metadata": {},
   "source": [
    "**Calculating Test Statistic and P-Value**"
   ]
  },
  {
   "cell_type": "code",
   "execution_count": 20,
   "id": "781c73cd",
   "metadata": {},
   "outputs": [
    {
     "data": {
      "text/plain": [
       "TtestResult(statistic=-0.6864064729836442, pvalue=0.5301776477578163, df=4)"
      ]
     },
     "execution_count": 20,
     "metadata": {},
     "output_type": "execute_result"
    }
   ],
   "source": [
    "stats.ttest_rel(bp_before, bp_after, alternative='two-sided')"
   ]
  },
  {
   "cell_type": "markdown",
   "id": "db7eddc5",
   "metadata": {},
   "source": [
    "**Interpreting Results**"
   ]
  },
  {
   "cell_type": "markdown",
   "id": "c81c9399",
   "metadata": {},
   "source": [
    "Since the p-value is greater than α = 0.05, we fail to reject the null hypothesis. Therefore, we conclude that the mean blood pressure before using the drug does not differ significantly from that after using the drug."
   ]
  },
  {
   "cell_type": "markdown",
   "id": "7172a220",
   "metadata": {},
   "source": [
    "## IV. Two-Sample Proportion Test"
   ]
  },
  {
   "cell_type": "markdown",
   "id": "76a5dc1e",
   "metadata": {},
   "source": [
    "**The conditions for one-sample proportion test include:** \n",
    "- Samples are randomly selected\n",
    "- Two sets of data/samples are independent from one another\n",
    "- The data from each sample has only 2 categories (or 2 possible outcomes), such as yes/no or pass/fail\n",
    "- Comparision of proportions from two different populations "
   ]
  },
  {
   "cell_type": "markdown",
   "id": "8ab2970f",
   "metadata": {},
   "source": [
    "**However, we usually conduct this test by approximating a binomial distribution with a normal distribution.** A key condition for this is that the data from each sample should include at least 10 successes (i.e., $n\\ p_0$ $\\geq$ 10) and 10 failures (i.e., n (1 - $\\ p_0$) $\\geq$ 10). **Some sources, however, suggest a minimum of 5 successes and 5 failures instead.**"
   ]
  },
  {
   "cell_type": "markdown",
   "id": "43144efa",
   "metadata": {},
   "source": [
    "### 'Two-Proportion Z-Test' For Two-Sample Proportion Test"
   ]
  },
  {
   "cell_type": "markdown",
   "id": "131f581d",
   "metadata": {},
   "source": [
    "**Pooled Proportion Method:** When we are testing for no difference between two population proportions—under the null hypothesis, and assuming normality in both population datasets—we use the pooled proportion method.\n",
    "\n",
    "The formula for the two-proportion z-statistic using the **Pooled Proportion** approach is:\n",
    "\n",
    "$$\n",
    "z(cal.) = \\frac{\\hat{p}_1 - \\hat{p}_2}{\\sqrt{\\hat{p}(1 - \\hat{p})\\left(\\frac{1}{n_1} + \\frac{1}{n_2}\\right)}}\n",
    "$$\n",
    "\n",
    "Where:\n",
    "\n",
    "$\\hat{p}_1$ = Sample proportion in the first sample\n",
    "\n",
    "$\\hat{p}_2$ = Sample proportion in the second sample\n",
    "\n",
    "$n_1$ =  Size of the first sample\n",
    "\n",
    "$n_2$ = Size of the second sample\n",
    "\n",
    "$\\hat{p}$ = Pooled or combined proportion \n",
    "\n",
    "\n",
    "The formula to calculate the *pooled proporton* is:\n",
    "\n",
    "$$\\hat{p} = {\\frac{{n_1 \\hat{p}_1 + n_2 \\hat{p}_2}}{n_1 + n_2}}\\  or \\  {\\frac{x_1 + x_2}{n_1 + n_2}} $$ \n",
    "\n",
    "Where:\n",
    "\n",
    "$x_1$ = the count/number of successes in the first sample = $n_1 \\hat{p}_1$\n",
    "\n",
    "$x_2$ = the count/number of successes in the second sample = $n_2 \\hat{p}_2$"
   ]
  },
  {
   "cell_type": "markdown",
   "id": "bba3a134",
   "metadata": {},
   "source": [
    "### *Two-Sample Proportion Test (Two-Tailed Test)*"
   ]
  },
  {
   "cell_type": "markdown",
   "id": "17356591",
   "metadata": {},
   "source": [
    "**Question:** We tested 200 items from Vendor A and found 30 defective. From Vendor B, we tested 100 items and found 10 defective. Is there a significant difference in the proportion of defective items between these two vendors? Perform a hypothesis test at the 95% confidence level."
   ]
  },
  {
   "cell_type": "markdown",
   "id": "a8eaa5fb",
   "metadata": {},
   "source": [
    "**Importing Libraries**"
   ]
  },
  {
   "cell_type": "code",
   "execution_count": 21,
   "id": "60cb4a0b",
   "metadata": {},
   "outputs": [],
   "source": [
    "import numpy as np\n",
    "import pandas as pd\n",
    "import matplotlib.pyplot as plt\n",
    "import seaborn as sns\n",
    "import scipy.stats as stats\n",
    "from statsmodels.stats import proportion"
   ]
  },
  {
   "cell_type": "markdown",
   "id": "6afd48ca",
   "metadata": {},
   "source": [
    "**Loading/Creating Data**"
   ]
  },
  {
   "cell_type": "markdown",
   "id": "f6ac3d7d",
   "metadata": {},
   "source": [
    "Here, we are neither loading nor creating data, as we are directly using the data provided in the question above.”"
   ]
  },
  {
   "cell_type": "markdown",
   "id": "643eb7a0",
   "metadata": {},
   "source": [
    "**Stating Hypothesis**"
   ]
  },
  {
   "cell_type": "markdown",
   "id": "ce5ed952",
   "metadata": {},
   "source": [
    "Null hypothesis H0: $p_1$ = $p_2$ or $p_1$ - $p_2$ = 0 (The proportion of defective items from Vendor A is equal to that from Vendor B)\n",
    "\n",
    "Alternative hypothesis H1: $p_1$ $\\neq$ $p_2$ or $p_1$ - $p_2$ $\\neq$ 0 (The proportion of defective items from Vendor A is not equal to that from Vendor B)\n",
    "\n",
    "Here, $p_1$ and $p_2$ refer to the true but unknown population proportions we are testing."
   ]
  },
  {
   "cell_type": "markdown",
   "id": "c019bea3",
   "metadata": {},
   "source": [
    "**Selecting the Level of Significance or α Level**"
   ]
  },
  {
   "cell_type": "markdown",
   "id": "e0b34b8d",
   "metadata": {},
   "source": [
    "Given a confidence level of 95% (i.e., 1 - α), the corresponding significance level is 5% (α = 0.05). For a two-tailed test, the significance level is split equally between both tails, resulting in α/2 = 0.025 for each tail."
   ]
  },
  {
   "cell_type": "markdown",
   "id": "60025389",
   "metadata": {},
   "source": [
    "**Calculating Test Statistic and P-Value**"
   ]
  },
  {
   "cell_type": "markdown",
   "id": "ae1aeba2",
   "metadata": {},
   "source": [
    "Here, we compare two independent proportions using the 'proportion.test_proportions_2indep' function, which performs a z-test. This test relies on the z-distribution to compute the p-value and serves as an approximation of the binomial distribution."
   ]
  },
  {
   "cell_type": "code",
   "execution_count": 22,
   "id": "99f19195",
   "metadata": {},
   "outputs": [
    {
     "data": {
      "text/plain": [
       "<class 'statsmodels.stats.base.HolderTuple'>\n",
       "statistic = 1.1989578808281796\n",
       "pvalue = 0.2305443235633593\n",
       "compare = 'diff'\n",
       "method = 'score'\n",
       "variance = 0.001739130434782609\n",
       "alternative = 'two-sided'\n",
       "prop1_null = 0.13333333333333333\n",
       "prop2_null = 0.13333333333333333\n",
       "tuple = (1.1989578808281796, 0.2305443235633593)\n",
       "diff = 0.04999999999999999\n",
       "ratio = 1.4999999999999998\n",
       "odds_ratio = 1.588235294117647\n",
       "value = 0"
      ]
     },
     "execution_count": 22,
     "metadata": {},
     "output_type": "execute_result"
    }
   ],
   "source": [
    "proportion.test_proportions_2indep(count1=30, nobs1=200, count2=10, nobs2=100, method='score')\n",
    "# Here, 'alternative = two-sided' is the default test type"
   ]
  },
  {
   "cell_type": "markdown",
   "id": "9674fd36",
   "metadata": {},
   "source": [
    "Here, calculated test statistic (Z cal) is 1.19 and the two-tailed p-value associated with Z cal = 1.19 is 0.230."
   ]
  },
  {
   "cell_type": "markdown",
   "id": "33458db7",
   "metadata": {},
   "source": [
    "**Interpreting Results**"
   ]
  },
  {
   "cell_type": "markdown",
   "id": "539f96a3",
   "metadata": {},
   "source": [
    "Since the p-value is greater than α = 0.05, we fail to reject the null hypothesis. Therefore, we conclude that the proportion of defective items from Vendor A does not differ significantly from that of Vendor B."
   ]
  },
  {
   "cell_type": "markdown",
   "id": "d72fa0e6",
   "metadata": {},
   "source": [
    "## V. Two-Sample Variance Test"
   ]
  },
  {
   "cell_type": "markdown",
   "id": "00a845d1",
   "metadata": {},
   "source": [
    "**The conditions for two-sample variance test include:** \n",
    "- Samples are randomly selected\n",
    "- Two sets of data/samples are independent from one another\n",
    "- Comparision of variances from two different populations\n",
    "- Sampling distribution approximates normal distribution (or, the data follows a normal distribution)"
   ]
  },
  {
   "cell_type": "markdown",
   "id": "cddb1fb8",
   "metadata": {},
   "source": [
    "Since neither 'scipy.stats' nor 'statsmodels.stats' includes a built-in test for variance, we need to manually calculate the F-statistic to compare two variances using the formula:\n",
    "\n",
    "$$\n",
    "F(cal.) = \\frac{\\ s_1^2}{\\ s_2^2}\n",
    "$$\n",
    "\n",
    "Where:\n",
    "\n",
    "$\\ s_1^2$ is the variance of the first sample (larger variance is typically placed in the numerator)\n",
    "\n",
    "$\\ s_2^2$ is the variance of the second sample"
   ]
  },
  {
   "cell_type": "markdown",
   "id": "e22599fd",
   "metadata": {},
   "source": [
    "**Question:** We collected 8 bottle samples from Machine A with a standard deviation of 1.1 of the bottle volume, and 5 samples of bottles from Machine B with a variance of 11 in the bottle volume. At the 90% confidence level, can we conclude that there is a significant difference between the variances of the bottle volumes produced by two machines?"
   ]
  },
  {
   "cell_type": "markdown",
   "id": "92fd5252",
   "metadata": {},
   "source": [
    "**Importing Libraries**"
   ]
  },
  {
   "cell_type": "code",
   "execution_count": 23,
   "id": "16b4d973",
   "metadata": {},
   "outputs": [],
   "source": [
    "import numpy as np\n",
    "import pandas as pd\n",
    "import matplotlib.pyplot as plt\n",
    "import seaborn as sns\n",
    "import scipy.stats as stats\n",
    "from scipy.stats import f"
   ]
  },
  {
   "cell_type": "markdown",
   "id": "a7b4d61d",
   "metadata": {},
   "source": [
    "**Stating Hypothesis**"
   ]
  },
  {
   "cell_type": "markdown",
   "id": "2874e5d7",
   "metadata": {},
   "source": [
    "Null hypothesis H0: $\\sigma_1^2$ = $\\sigma_1^2$ (The sample variance of Machine A is equal to the sample variance of Machine B)\n",
    "\n",
    "Alternative hypothesis H1: $\\sigma_1^2$ $\\neq$ $\\sigma_1^2$ (The sample variance of Machine A is not equal to the sample variance of Machine B)"
   ]
  },
  {
   "cell_type": "markdown",
   "id": "60b709f1",
   "metadata": {},
   "source": [
    "**Selecting the Level of Significance or α Level**"
   ]
  },
  {
   "cell_type": "markdown",
   "id": "5f0d4364",
   "metadata": {},
   "source": [
    "Given that the confidence level (1 - α) is 90%, the significance level (α) is 10% (or 0.10). Therefore, for a two-tailed test, the significance level for each tail is α/2 = 0.05."
   ]
  },
  {
   "cell_type": "markdown",
   "id": "5fe26ba5",
   "metadata": {},
   "source": [
    "**Calculating F-Test Statistic**"
   ]
  },
  {
   "cell_type": "code",
   "execution_count": 24,
   "id": "f3922e28",
   "metadata": {},
   "outputs": [
    {
     "data": {
      "text/plain": [
       "9.09090909090909"
      ]
     },
     "execution_count": 24,
     "metadata": {},
     "output_type": "execute_result"
    }
   ],
   "source": [
    "# Larger variance is typically placed in the numerator)\n",
    "F_cal = 11/(1.1**2)\n",
    "F_cal"
   ]
  },
  {
   "cell_type": "markdown",
   "id": "925b05fe",
   "metadata": {},
   "source": [
    "**Finding Critical F-Values**"
   ]
  },
  {
   "cell_type": "code",
   "execution_count": 25,
   "id": "2169ce49",
   "metadata": {},
   "outputs": [
    {
     "data": {
      "text/plain": [
       "4.120311726897633"
      ]
     },
     "execution_count": 25,
     "metadata": {},
     "output_type": "execute_result"
    }
   ],
   "source": [
    "# Calulating the right critical value\n",
    "f.isf(q=0.05, dfn=4, dfd=7)"
   ]
  },
  {
   "cell_type": "code",
   "execution_count": 26,
   "id": "3d87f486",
   "metadata": {},
   "outputs": [
    {
     "data": {
      "text/plain": [
       "0.1640901524729093"
      ]
     },
     "execution_count": 26,
     "metadata": {},
     "output_type": "execute_result"
    }
   ],
   "source": [
    "# Calulating the Left critical value\n",
    "f.isf(q=0.95, dfn=4, dfd=7)"
   ]
  },
  {
   "cell_type": "markdown",
   "id": "5194f7e6",
   "metadata": {},
   "source": [
    "**Interpreting Results**"
   ]
  },
  {
   "cell_type": "markdown",
   "id": "cf3f23dc",
   "metadata": {},
   "source": [
    "Here, the calculated F-value of 9.09 falls in the rejection region—that is, it lies outside the range between the lower critical F-value (0.16) and the upper critical F-value (4.12) of the F-distribution. Therefore, we reject the null hypothesis at the 𝛼 = 0.10 level and conclude that the sample variance of Machine A significantly differs from the sample variance of Machine B."
   ]
  },
  {
   "cell_type": "markdown",
   "id": "6d183391",
   "metadata": {},
   "source": [
    "### *'Bartlett's Test' For Two-Sample Variance Test*"
   ]
  },
  {
   "cell_type": "markdown",
   "id": "c20b3a8d",
   "metadata": {},
   "source": [
    "Bartlett's Test is used to test equality of variances. This test is based on the statistic whose sampling distribution is approximately a Chi-Square distribution with (k − 1) degrees of freedom, where k is the number of random samples, which may vary in size and are each drawn from independent normal distributions. If we have strong evidence that our data come from a normal, or nearly normal, distribution, then Bartlett's test is a better option."
   ]
  },
  {
   "cell_type": "markdown",
   "id": "6a351557",
   "metadata": {},
   "source": [
    "***Let's perform Bartlett's Test and Levene's Test using a new set of data.***"
   ]
  },
  {
   "cell_type": "code",
   "execution_count": 27,
   "id": "d41e4455",
   "metadata": {},
   "outputs": [
    {
     "data": {
      "text/plain": [
       "1.165922381636102"
      ]
     },
     "execution_count": 27,
     "metadata": {},
     "output_type": "execute_result"
    }
   ],
   "source": [
    "v1 = [150, 150, 151, 148, 151, 152, 149, 150] # Creating data showing bottle volumes from machine A\n",
    "np.std(v1)"
   ]
  },
  {
   "cell_type": "code",
   "execution_count": 28,
   "id": "46af9bbc",
   "metadata": {},
   "outputs": [
    {
     "data": {
      "text/plain": [
       "10.9288608738514"
      ]
     },
     "execution_count": 28,
     "metadata": {},
     "output_type": "execute_result"
    }
   ],
   "source": [
    "v2 = [135, 152, 154, 169, 157] # Creating data showing bottle volumes from machine B\n",
    "np.std(v2)"
   ]
  },
  {
   "cell_type": "code",
   "execution_count": 29,
   "id": "3709ebc6",
   "metadata": {},
   "outputs": [
    {
     "data": {
      "text/plain": [
       "BartlettResult(statistic=19.105727631632714, pvalue=1.2367317910523616e-05)"
      ]
     },
     "execution_count": 29,
     "metadata": {},
     "output_type": "execute_result"
    }
   ],
   "source": [
    "stats.bartlett(v1, v2)"
   ]
  },
  {
   "cell_type": "markdown",
   "id": "e32571a7",
   "metadata": {},
   "source": [
    "Since the p-value is less than α = 0.05, we reject the null hypothesis — just as in the previous question — and conclude that the two variances differ significantly from one another."
   ]
  },
  {
   "cell_type": "markdown",
   "id": "e5b2fef9",
   "metadata": {},
   "source": [
    "### *'Levene's Test' For Two-Sample Variance Test*"
   ]
  },
  {
   "cell_type": "markdown",
   "id": "b3176680",
   "metadata": {},
   "source": [
    "Levene's test is a highly robust method for assessing the equality of variances, as it makes minimal assumptions about the data distribution and performs well across various data types. When the normality assumption of the data is questionable, the more robust Levene's test can be applied directly."
   ]
  },
  {
   "cell_type": "code",
   "execution_count": 30,
   "id": "ed89e1f4",
   "metadata": {},
   "outputs": [
    {
     "data": {
      "text/plain": [
       "LeveneResult(statistic=5.416245804750017, pvalue=0.040060452607943706)"
      ]
     },
     "execution_count": 30,
     "metadata": {},
     "output_type": "execute_result"
    }
   ],
   "source": [
    "stats.levene(v1, v2)"
   ]
  },
  {
   "cell_type": "markdown",
   "id": "ddb8cf4c",
   "metadata": {},
   "source": [
    "Since the p-value is less than α = 0.05, we reject the null hypothesis — just as in the previous question — and conclude that the two variances differ significantly from one another."
   ]
  },
  {
   "cell_type": "code",
   "execution_count": null,
   "id": "155ed0d1",
   "metadata": {},
   "outputs": [],
   "source": []
  }
 ],
 "metadata": {
  "kernelspec": {
   "display_name": "Python 3 (ipykernel)",
   "language": "python",
   "name": "python3"
  },
  "language_info": {
   "codemirror_mode": {
    "name": "ipython",
    "version": 3
   },
   "file_extension": ".py",
   "mimetype": "text/x-python",
   "name": "python",
   "nbconvert_exporter": "python",
   "pygments_lexer": "ipython3",
   "version": "3.10.16"
  }
 },
 "nbformat": 4,
 "nbformat_minor": 5
}
